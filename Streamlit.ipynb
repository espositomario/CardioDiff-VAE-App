{
 "cells": [
  {
   "cell_type": "code",
   "execution_count": 135,
   "metadata": {},
   "outputs": [],
   "source": [
    "CT_LIST = ['ESC', 'MES', 'CP', 'CM']\n",
    "HM_LIST = ['H3K4me3', 'H3K27ac', 'H3K27me3',  'RNA']\n",
    "PREFIXES = [HM + '_' + CT for HM in HM_LIST for CT in CT_LIST]\n",
    "\n",
    "\n",
    "MARKER_GENES_EXT = {'ESC': ['Nanog','Pou5f1','Sox2','L1td1','Dppa5a','Tdh','Esrrb','Lefty1','Zfp42','Sfn','Lncenc1','Utf1'],\n",
    "                    'MES': ['Mesp1','Mesp2','T', 'Vrtn','Dll3','Dll1', 'Evx1','Cxcr4','Pcdh8','Pcdh19','Robo3','Slit1'],\n",
    "                    'CP':  ['Sfrp5', 'Gata5', 'Tek','Hbb-bh1','Hba-x', 'Pyy','Sox18','Lyl1','Rgs4','Igsf11','Tlx1','Ctse'],\n",
    "                    'CM':  ['Nppa','Gipr', 'Actn2', 'Coro6', 'Col3a1', 'Bgn','Myh6','Myh7','Tnni3','Hspb7' ,'Igfbp7','Ndrg2'],\n",
    "                    }\n",
    "\n",
    "\n",
    "\n",
    "HM_COL_DICT = {'H3K4me3': '#f37654','H3K27ac': '#b62a77','H3K27me3': '#39A8AC','RNA':'#ED455C'}\n",
    "CT_COL_DICT= {'ESC': '#405074',\n",
    "                'MES': '#7d5185',\n",
    "                'CP': '#c36171',\n",
    "                'CM': '#eea98d',}\n",
    "SET_COL_DICT= {'training':'#97DA58','validation':'#9b58da','test':'#DA5A58'}\n",
    "GONZALEZ_COL_DICT= {'Active': '#E5AA44','Bivalent': '#7442BE'}"
   ]
  },
  {
   "cell_type": "code",
   "execution_count": 136,
   "metadata": {},
   "outputs": [],
   "source": [
    "import plotly.express as px\n",
    "import pandas as pd\n",
    "import pickle\n",
    "\n",
    "\n",
    "\n",
    "# Load gene cluster dictionary\n",
    "with open(f'./data/gene_clusters_dict.pkl', 'rb') as f:\n",
    "    GENE_CLUSTERS = pickle.load(f)\n",
    "\n",
    "# Load CODE and LOG matrices\n",
    "CODE = pd.read_csv(f'./data/CODE.csv', index_col='GENE')\n",
    "CODE = CODE.iloc[:, 18:]\n",
    "CODE.drop(columns=['AE_RMSE','AE_Sc', 'PCA_RMSE', 'PCA_Sc', 'UMAP_RMSE', 'UMAP_Sc'],inplace=True)\n",
    "LOG = pd.read_csv(f'./data/ALL_X_FC.csv').set_index('GENE')\n"
   ]
  },
  {
   "cell_type": "code",
   "execution_count": 137,
   "metadata": {},
   "outputs": [],
   "source": [
    "name = 'TOP'\n",
    "N_TOP = 4000\n",
    "with open(f'./data/RNA_CV/{name}{N_TOP}/dict.pkl', 'rb') as f:\n",
    "    CV = pickle.load(f)\n",
    "name = 'BOTTOM'\n",
    "with open(f'./data/RNA_CV/{name}{N_TOP}/dict.pkl', 'rb') as f:\n",
    "    BOTTOM_CV = pickle.load(f)\n",
    "    \n",
    "STABLE = [gene for gene_list in BOTTOM_CV.values() for gene in gene_list]\n",
    "CV['STABLE'] = STABLE\n",
    "\n",
    "CV_MAP={}\n",
    "for CV_CAT, gene_list in CV.items():\n",
    "    for gene in gene_list:\n",
    "        CV_MAP[gene] = CV_CAT\n",
    "        \n",
    "CODE[\"CV_Category\"] = CODE.index.map(CV_MAP)\n",
    "CODE['CV_Category'] = CODE['CV_Category'].fillna('other')"
   ]
  },
  {
   "cell_type": "code",
   "execution_count": 138,
   "metadata": {},
   "outputs": [
    {
     "data": {
      "text/plain": [
       "ESC_ChromState_Gonzalez2021\n",
       "Active      9186\n",
       "other       3495\n",
       "Bivalent    2315\n",
       "Name: count, dtype: int64"
      ]
     },
     "execution_count": 138,
     "metadata": {},
     "output_type": "execute_result"
    }
   ],
   "source": [
    "with open('./data/gonzalez_dict.pkl', 'rb') as f:\n",
    "    GONZALEZ = pickle.load(f)\n",
    "GONZALEZ_MAP={}\n",
    "for GONZALEZ_CAT, gene_list in GONZALEZ.items():\n",
    "    for gene in gene_list:\n",
    "        GONZALEZ_MAP[gene] = GONZALEZ_CAT\n",
    "CODE[\"ESC_ChromState_Gonzalez2021\"] = CODE.index.map(GONZALEZ_MAP)\n",
    "CODE['ESC_ChromState_Gonzalez2021'] = CODE['ESC_ChromState_Gonzalez2021'].fillna('other')\n",
    "CODE['ESC_ChromState_Gonzalez2021'].value_counts()"
   ]
  },
  {
   "cell_type": "code",
   "execution_count": 139,
   "metadata": {},
   "outputs": [],
   "source": [
    "\n",
    "# Map cluster IDs to CODE and LOG\n",
    "gene_to_cluster = {}\n",
    "for cluster_id, gene_list in GENE_CLUSTERS.items():\n",
    "    for gene in gene_list['gene_list']:\n",
    "        gene_to_cluster[gene] = cluster_id\n",
    "CODE[\"Cluster\"] = CODE.index.map(gene_to_cluster).astype(int)\n"
   ]
  },
  {
   "cell_type": "code",
   "execution_count": 140,
   "metadata": {},
   "outputs": [],
   "source": [
    "CODE = CODE[['RNA_ESC', 'RNA_MES', 'RNA_CP', 'RNA_CM',\n",
    "\n",
    "    'H3K4me3_ESC','H3K4me3_MES', 'H3K4me3_CP', 'H3K4me3_CM', 'H3K27ac_ESC', 'H3K27ac_MES',\n",
    "        'H3K27ac_CP', 'H3K27ac_CM', 'H3K27me3_ESC', 'H3K27me3_MES',\n",
    "        'H3K27me3_CP', 'H3K27me3_CM', \n",
    "        \n",
    "        'RNA_CM_CP_FC', 'RNA_CM_MES_FC', 'RNA_CM_ESC_FC', 'RNA_CP_MES_FC','RNA_CP_ESC_FC', 'RNA_MES_ESC_FC', \n",
    "        'VAE_RMSE', 'VAE_Sc', \n",
    "        'RNA_CV','CV_Category', 'ESC_ChromState_Gonzalez2021','Cluster',\n",
    "        'VAE1', 'VAE2', 'VAE3', 'VAE4', 'VAE5', 'VAE6', 'VAE_UMAP1', 'VAE_UMAP2',]]\n",
    "CODE['Cluster'] = pd.Categorical(CODE['Cluster'])"
   ]
  },
  {
   "cell_type": "code",
   "execution_count": 141,
   "metadata": {},
   "outputs": [],
   "source": [
    "RNA_FPKM= pd.read_csv(f'./data/RNA_FPKMs.csv', index_col='GENE')\n",
    "assert list(RNA_FPKM.index) == list(CODE.index)\n",
    "#concatenate the two dataframes\n",
    "DATA = pd.concat([CODE, RNA_FPKM], axis=1)\n",
    "DATA.to_csv(f'./data/DATA.csv')\n",
    "\n",
    "Z_AVG_features = ['RNA_ESC', 'RNA_MES', 'RNA_CP', 'RNA_CM', 'H3K4me3_ESC', 'H3K4me3_MES',\n",
    "        'H3K4me3_CP', 'H3K4me3_CM', 'H3K27ac_ESC', 'H3K27ac_MES', 'H3K27ac_CP',\n",
    "        'H3K27ac_CM', 'H3K27me3_ESC', 'H3K27me3_MES', 'H3K27me3_CP',\n",
    "        'H3K27me3_CM']\n",
    "LOG_FC_features = ['RNA_CM_CP_FC', 'RNA_CM_MES_FC', 'RNA_CM_ESC_FC',\n",
    "            'RNA_CP_MES_FC', 'RNA_CP_ESC_FC', 'RNA_MES_ESC_FC']\n",
    "\n",
    "MISC_features = [ 'VAE_RMSE', 'VAE_Sc', 'RNA_CV', 'CV_Category', 'ESC_ChromState_Gonzalez2021', 'Cluster']\n",
    "\n",
    "LATENT_features = ['VAE1', 'VAE2', 'VAE3', 'VAE4', 'VAE5', 'VAE6', 'VAE_UMAP1', 'VAE_UMAP2']\n",
    "\n",
    "FPKM_features = [ 'RNA_ESC_1', 'RNA_ESC_2', 'RNA_MES_1', 'RNA_MES_2',\n",
    "            'RNA_CP_1', 'RNA_CP_2', 'RNA_CM_1', 'RNA_CM_2']\n",
    "\n",
    "\n",
    "Z_AVG = DATA[Z_AVG_features]\n",
    "\n",
    "LOG_FC = DATA[LOG_FC_features]\n",
    "\n",
    "MISC = DATA[MISC_features]\n",
    "\n",
    "LATENT = DATA[LATENT_features]\n",
    "\n",
    "FPKM = DATA[FPKM_features]\n"
   ]
  },
  {
   "cell_type": "code",
   "execution_count": null,
   "metadata": {},
   "outputs": [
    {
     "ename": "ValueError",
     "evalue": "Mime type rendering requires nbformat>=4.2.0 but it is not installed",
     "output_type": "error",
     "traceback": [
      "\u001b[0;31m---------------------------------------------------------------------------\u001b[0m",
      "\u001b[0;31mValueError\u001b[0m                                Traceback (most recent call last)",
      "File \u001b[0;32m~/miniconda3/envs/streamlit/lib/python3.12/site-packages/IPython/core/formatters.py:925\u001b[0m, in \u001b[0;36mIPythonDisplayFormatter.__call__\u001b[0;34m(self, obj)\u001b[0m\n\u001b[1;32m    923\u001b[0m method \u001b[38;5;241m=\u001b[39m get_real_method(obj, \u001b[38;5;28mself\u001b[39m\u001b[38;5;241m.\u001b[39mprint_method)\n\u001b[1;32m    924\u001b[0m \u001b[38;5;28;01mif\u001b[39;00m method \u001b[38;5;129;01mis\u001b[39;00m \u001b[38;5;129;01mnot\u001b[39;00m \u001b[38;5;28;01mNone\u001b[39;00m:\n\u001b[0;32m--> 925\u001b[0m     \u001b[43mmethod\u001b[49m\u001b[43m(\u001b[49m\u001b[43m)\u001b[49m\n\u001b[1;32m    926\u001b[0m     \u001b[38;5;28;01mreturn\u001b[39;00m \u001b[38;5;28;01mTrue\u001b[39;00m\n",
      "File \u001b[0;32m~/miniconda3/envs/streamlit/lib/python3.12/site-packages/plotly/basedatatypes.py:832\u001b[0m, in \u001b[0;36mBaseFigure._ipython_display_\u001b[0;34m(self)\u001b[0m\n\u001b[1;32m    829\u001b[0m \u001b[38;5;28;01mimport\u001b[39;00m \u001b[38;5;21;01mplotly\u001b[39;00m\u001b[38;5;21;01m.\u001b[39;00m\u001b[38;5;21;01mio\u001b[39;00m \u001b[38;5;28;01mas\u001b[39;00m \u001b[38;5;21;01mpio\u001b[39;00m\n\u001b[1;32m    831\u001b[0m \u001b[38;5;28;01mif\u001b[39;00m pio\u001b[38;5;241m.\u001b[39mrenderers\u001b[38;5;241m.\u001b[39mrender_on_display \u001b[38;5;129;01mand\u001b[39;00m pio\u001b[38;5;241m.\u001b[39mrenderers\u001b[38;5;241m.\u001b[39mdefault:\n\u001b[0;32m--> 832\u001b[0m     \u001b[43mpio\u001b[49m\u001b[38;5;241;43m.\u001b[39;49m\u001b[43mshow\u001b[49m\u001b[43m(\u001b[49m\u001b[38;5;28;43mself\u001b[39;49m\u001b[43m)\u001b[49m\n\u001b[1;32m    833\u001b[0m \u001b[38;5;28;01melse\u001b[39;00m:\n\u001b[1;32m    834\u001b[0m     \u001b[38;5;28mprint\u001b[39m(\u001b[38;5;28mrepr\u001b[39m(\u001b[38;5;28mself\u001b[39m))\n",
      "File \u001b[0;32m~/miniconda3/envs/streamlit/lib/python3.12/site-packages/plotly/io/_renderers.py:394\u001b[0m, in \u001b[0;36mshow\u001b[0;34m(fig, renderer, validate, **kwargs)\u001b[0m\n\u001b[1;32m    389\u001b[0m         \u001b[38;5;28;01mraise\u001b[39;00m \u001b[38;5;167;01mValueError\u001b[39;00m(\n\u001b[1;32m    390\u001b[0m             \u001b[38;5;124m\"\u001b[39m\u001b[38;5;124mMime type rendering requires ipython but it is not installed\u001b[39m\u001b[38;5;124m\"\u001b[39m\n\u001b[1;32m    391\u001b[0m         )\n\u001b[1;32m    393\u001b[0m     \u001b[38;5;28;01mif\u001b[39;00m \u001b[38;5;129;01mnot\u001b[39;00m nbformat \u001b[38;5;129;01mor\u001b[39;00m Version(nbformat\u001b[38;5;241m.\u001b[39m__version__) \u001b[38;5;241m<\u001b[39m Version(\u001b[38;5;124m\"\u001b[39m\u001b[38;5;124m4.2.0\u001b[39m\u001b[38;5;124m\"\u001b[39m):\n\u001b[0;32m--> 394\u001b[0m         \u001b[38;5;28;01mraise\u001b[39;00m \u001b[38;5;167;01mValueError\u001b[39;00m(\n\u001b[1;32m    395\u001b[0m             \u001b[38;5;124m\"\u001b[39m\u001b[38;5;124mMime type rendering requires nbformat>=4.2.0 but it is not installed\u001b[39m\u001b[38;5;124m\"\u001b[39m\n\u001b[1;32m    396\u001b[0m         )\n\u001b[1;32m    398\u001b[0m     ipython_display\u001b[38;5;241m.\u001b[39mdisplay(bundle, raw\u001b[38;5;241m=\u001b[39m\u001b[38;5;28;01mTrue\u001b[39;00m)\n\u001b[1;32m    400\u001b[0m \u001b[38;5;66;03m# external renderers\u001b[39;00m\n",
      "\u001b[0;31mValueError\u001b[0m: Mime type rendering requires nbformat>=4.2.0 but it is not installed"
     ]
    },
    {
     "data": {
      "application/vnd.plotly.v1+json": {
       "config": {
        "plotlyServerURL": "https://plot.ly"
       },
       "data": [
        {
         "hoverinfo": "y",
         "marker": {
          "color": "grey"
         },
         "name": "CV: other",
         "type": "bar",
         "x": [
          "CV_Category"
         ],
         "y": [
          7417
         ]
        },
        {
         "hoverinfo": "y",
         "marker": {
          "color": "grey"
         },
         "name": "CV: STABLE",
         "type": "bar",
         "x": [
          "CV_Category"
         ],
         "y": [
          3826
         ]
        },
        {
         "hoverinfo": "y",
         "marker": {
          "color": "#eea98d"
         },
         "name": "CV: RNA_CM",
         "type": "bar",
         "x": [
          "CV_Category"
         ],
         "y": [
          1703
         ]
        },
        {
         "hoverinfo": "y",
         "marker": {
          "color": "#405074"
         },
         "name": "CV: RNA_ESC",
         "type": "bar",
         "x": [
          "CV_Category"
         ],
         "y": [
          1202
         ]
        },
        {
         "hoverinfo": "y",
         "marker": {
          "color": "#c36171"
         },
         "name": "CV: RNA_CP",
         "type": "bar",
         "x": [
          "CV_Category"
         ],
         "y": [
          489
         ]
        },
        {
         "hoverinfo": "y",
         "marker": {
          "color": "#7d5185"
         },
         "name": "CV: RNA_MES",
         "type": "bar",
         "x": [
          "CV_Category"
         ],
         "y": [
          359
         ]
        },
        {
         "hoverinfo": "y",
         "marker": {
          "color": "#E5AA44"
         },
         "name": "ChromState: Active",
         "type": "bar",
         "x": [
          "ESC_ChromState_Gonzalez2021"
         ],
         "y": [
          9186
         ]
        },
        {
         "hoverinfo": "y",
         "marker": {
          "color": "grey"
         },
         "name": "ChromState: other",
         "type": "bar",
         "x": [
          "ESC_ChromState_Gonzalez2021"
         ],
         "y": [
          3495
         ]
        },
        {
         "hoverinfo": "y",
         "marker": {
          "color": "#7442BE"
         },
         "name": "ChromState: Bivalent",
         "type": "bar",
         "x": [
          "ESC_ChromState_Gonzalez2021"
         ],
         "y": [
          2315
         ]
        }
       ],
       "layout": {
        "barmode": "stack",
        "legend": {
         "title": {
          "text": "Categories"
         }
        },
        "plot_bgcolor": "white",
        "template": {
         "data": {
          "candlestick": [
           {
            "decreasing": {
             "line": {
              "color": "#000033"
             }
            },
            "increasing": {
             "line": {
              "color": "#000032"
             }
            },
            "type": "candlestick"
           }
          ],
          "contour": [
           {
            "colorscale": [
             [
              0,
              "#000011"
             ],
             [
              0.1111111111111111,
              "#000012"
             ],
             [
              0.2222222222222222,
              "#000013"
             ],
             [
              0.3333333333333333,
              "#000014"
             ],
             [
              0.4444444444444444,
              "#000015"
             ],
             [
              0.5555555555555556,
              "#000016"
             ],
             [
              0.6666666666666666,
              "#000017"
             ],
             [
              0.7777777777777778,
              "#000018"
             ],
             [
              0.8888888888888888,
              "#000019"
             ],
             [
              1,
              "#000020"
             ]
            ],
            "type": "contour"
           }
          ],
          "contourcarpet": [
           {
            "colorscale": [
             [
              0,
              "#000011"
             ],
             [
              0.1111111111111111,
              "#000012"
             ],
             [
              0.2222222222222222,
              "#000013"
             ],
             [
              0.3333333333333333,
              "#000014"
             ],
             [
              0.4444444444444444,
              "#000015"
             ],
             [
              0.5555555555555556,
              "#000016"
             ],
             [
              0.6666666666666666,
              "#000017"
             ],
             [
              0.7777777777777778,
              "#000018"
             ],
             [
              0.8888888888888888,
              "#000019"
             ],
             [
              1,
              "#000020"
             ]
            ],
            "type": "contourcarpet"
           }
          ],
          "heatmap": [
           {
            "colorscale": [
             [
              0,
              "#000011"
             ],
             [
              0.1111111111111111,
              "#000012"
             ],
             [
              0.2222222222222222,
              "#000013"
             ],
             [
              0.3333333333333333,
              "#000014"
             ],
             [
              0.4444444444444444,
              "#000015"
             ],
             [
              0.5555555555555556,
              "#000016"
             ],
             [
              0.6666666666666666,
              "#000017"
             ],
             [
              0.7777777777777778,
              "#000018"
             ],
             [
              0.8888888888888888,
              "#000019"
             ],
             [
              1,
              "#000020"
             ]
            ],
            "type": "heatmap"
           }
          ],
          "histogram2d": [
           {
            "colorscale": [
             [
              0,
              "#000011"
             ],
             [
              0.1111111111111111,
              "#000012"
             ],
             [
              0.2222222222222222,
              "#000013"
             ],
             [
              0.3333333333333333,
              "#000014"
             ],
             [
              0.4444444444444444,
              "#000015"
             ],
             [
              0.5555555555555556,
              "#000016"
             ],
             [
              0.6666666666666666,
              "#000017"
             ],
             [
              0.7777777777777778,
              "#000018"
             ],
             [
              0.8888888888888888,
              "#000019"
             ],
             [
              1,
              "#000020"
             ]
            ],
            "type": "histogram2d"
           }
          ],
          "icicle": [
           {
            "textfont": {
             "color": "white"
            },
            "type": "icicle"
           }
          ],
          "sankey": [
           {
            "textfont": {
             "color": "#000036"
            },
            "type": "sankey"
           }
          ],
          "scatter": [
           {
            "marker": {
             "line": {
              "width": 0
             }
            },
            "type": "scatter"
           }
          ],
          "table": [
           {
            "cells": {
             "fill": {
              "color": "#000038"
             },
             "font": {
              "color": "#000037"
             },
             "line": {
              "color": "#000039"
             }
            },
            "header": {
             "fill": {
              "color": "#000040"
             },
             "font": {
              "color": "#000036"
             },
             "line": {
              "color": "#000039"
             }
            },
            "type": "table"
           }
          ],
          "waterfall": [
           {
            "connector": {
             "line": {
              "color": "#000036",
              "width": 2
             }
            },
            "decreasing": {
             "marker": {
              "color": "#000033"
             }
            },
            "increasing": {
             "marker": {
              "color": "#000032"
             }
            },
            "totals": {
             "marker": {
              "color": "#000034"
             }
            },
            "type": "waterfall"
           }
          ]
         },
         "layout": {
          "coloraxis": {
           "colorscale": [
            [
             0,
             "#000011"
            ],
            [
             0.1111111111111111,
             "#000012"
            ],
            [
             0.2222222222222222,
             "#000013"
            ],
            [
             0.3333333333333333,
             "#000014"
            ],
            [
             0.4444444444444444,
             "#000015"
            ],
            [
             0.5555555555555556,
             "#000016"
            ],
            [
             0.6666666666666666,
             "#000017"
            ],
            [
             0.7777777777777778,
             "#000018"
            ],
            [
             0.8888888888888888,
             "#000019"
            ],
            [
             1,
             "#000020"
            ]
           ]
          },
          "colorscale": {
           "diverging": [
            [
             0,
             "#000021"
            ],
            [
             0.1,
             "#000022"
            ],
            [
             0.2,
             "#000023"
            ],
            [
             0.3,
             "#000024"
            ],
            [
             0.4,
             "#000025"
            ],
            [
             0.5,
             "#000026"
            ],
            [
             0.6,
             "#000027"
            ],
            [
             0.7,
             "#000028"
            ],
            [
             0.8,
             "#000029"
            ],
            [
             0.9,
             "#000030"
            ],
            [
             1,
             "#000031"
            ]
           ],
           "sequential": [
            [
             0,
             "#000011"
            ],
            [
             0.1111111111111111,
             "#000012"
            ],
            [
             0.2222222222222222,
             "#000013"
            ],
            [
             0.3333333333333333,
             "#000014"
            ],
            [
             0.4444444444444444,
             "#000015"
            ],
            [
             0.5555555555555556,
             "#000016"
            ],
            [
             0.6666666666666666,
             "#000017"
            ],
            [
             0.7777777777777778,
             "#000018"
            ],
            [
             0.8888888888888888,
             "#000019"
            ],
            [
             1,
             "#000020"
            ]
           ],
           "sequentialminus": [
            [
             0,
             "#000011"
            ],
            [
             0.1111111111111111,
             "#000012"
            ],
            [
             0.2222222222222222,
             "#000013"
            ],
            [
             0.3333333333333333,
             "#000014"
            ],
            [
             0.4444444444444444,
             "#000015"
            ],
            [
             0.5555555555555556,
             "#000016"
            ],
            [
             0.6666666666666666,
             "#000017"
            ],
            [
             0.7777777777777778,
             "#000018"
            ],
            [
             0.8888888888888888,
             "#000019"
            ],
            [
             1,
             "#000020"
            ]
           ]
          },
          "colorway": [
           "#000001",
           "#000002",
           "#000003",
           "#000004",
           "#000005",
           "#000006",
           "#000007",
           "#000008",
           "#000009",
           "#000010"
          ]
         }
        },
        "title": {
         "text": "Stacked Bar Plot for CV_Category and ESC_ChromState_Gonzalez2021"
        },
        "xaxis": {
         "title": {
          "text": "Features"
         }
        },
        "yaxis": {
         "title": {
          "text": "Counts"
         }
        }
       }
      },
      "text/html": [
       "<div>                        <script type=\"text/javascript\">window.PlotlyConfig = {MathJaxConfig: 'local'};</script>\n",
       "        <script charset=\"utf-8\" src=\"https://cdn.plot.ly/plotly-2.35.2.min.js\"></script>                <div id=\"74e55d99-8a39-41c3-88cf-64922d3e6cea\" class=\"plotly-graph-div\" style=\"height:100%; width:100%;\"></div>            <script type=\"text/javascript\">                                    window.PLOTLYENV=window.PLOTLYENV || {};                                    if (document.getElementById(\"74e55d99-8a39-41c3-88cf-64922d3e6cea\")) {                    Plotly.newPlot(                        \"74e55d99-8a39-41c3-88cf-64922d3e6cea\",                        [{\"hoverinfo\":\"y\",\"marker\":{\"color\":\"grey\"},\"name\":\"CV: other\",\"x\":[\"CV_Category\"],\"y\":[7417],\"type\":\"bar\"},{\"hoverinfo\":\"y\",\"marker\":{\"color\":\"grey\"},\"name\":\"CV: STABLE\",\"x\":[\"CV_Category\"],\"y\":[3826],\"type\":\"bar\"},{\"hoverinfo\":\"y\",\"marker\":{\"color\":\"#eea98d\"},\"name\":\"CV: RNA_CM\",\"x\":[\"CV_Category\"],\"y\":[1703],\"type\":\"bar\"},{\"hoverinfo\":\"y\",\"marker\":{\"color\":\"#405074\"},\"name\":\"CV: RNA_ESC\",\"x\":[\"CV_Category\"],\"y\":[1202],\"type\":\"bar\"},{\"hoverinfo\":\"y\",\"marker\":{\"color\":\"#c36171\"},\"name\":\"CV: RNA_CP\",\"x\":[\"CV_Category\"],\"y\":[489],\"type\":\"bar\"},{\"hoverinfo\":\"y\",\"marker\":{\"color\":\"#7d5185\"},\"name\":\"CV: RNA_MES\",\"x\":[\"CV_Category\"],\"y\":[359],\"type\":\"bar\"},{\"hoverinfo\":\"y\",\"marker\":{\"color\":\"#E5AA44\"},\"name\":\"ChromState: Active\",\"x\":[\"ESC_ChromState_Gonzalez2021\"],\"y\":[9186],\"type\":\"bar\"},{\"hoverinfo\":\"y\",\"marker\":{\"color\":\"grey\"},\"name\":\"ChromState: other\",\"x\":[\"ESC_ChromState_Gonzalez2021\"],\"y\":[3495],\"type\":\"bar\"},{\"hoverinfo\":\"y\",\"marker\":{\"color\":\"#7442BE\"},\"name\":\"ChromState: Bivalent\",\"x\":[\"ESC_ChromState_Gonzalez2021\"],\"y\":[2315],\"type\":\"bar\"}],                        {\"template\":{\"data\":{\"candlestick\":[{\"decreasing\":{\"line\":{\"color\":\"#000033\"}},\"increasing\":{\"line\":{\"color\":\"#000032\"}},\"type\":\"candlestick\"}],\"contourcarpet\":[{\"colorscale\":[[0.0,\"#000011\"],[0.1111111111111111,\"#000012\"],[0.2222222222222222,\"#000013\"],[0.3333333333333333,\"#000014\"],[0.4444444444444444,\"#000015\"],[0.5555555555555556,\"#000016\"],[0.6666666666666666,\"#000017\"],[0.7777777777777778,\"#000018\"],[0.8888888888888888,\"#000019\"],[1.0,\"#000020\"]],\"type\":\"contourcarpet\"}],\"contour\":[{\"colorscale\":[[0.0,\"#000011\"],[0.1111111111111111,\"#000012\"],[0.2222222222222222,\"#000013\"],[0.3333333333333333,\"#000014\"],[0.4444444444444444,\"#000015\"],[0.5555555555555556,\"#000016\"],[0.6666666666666666,\"#000017\"],[0.7777777777777778,\"#000018\"],[0.8888888888888888,\"#000019\"],[1.0,\"#000020\"]],\"type\":\"contour\"}],\"heatmap\":[{\"colorscale\":[[0.0,\"#000011\"],[0.1111111111111111,\"#000012\"],[0.2222222222222222,\"#000013\"],[0.3333333333333333,\"#000014\"],[0.4444444444444444,\"#000015\"],[0.5555555555555556,\"#000016\"],[0.6666666666666666,\"#000017\"],[0.7777777777777778,\"#000018\"],[0.8888888888888888,\"#000019\"],[1.0,\"#000020\"]],\"type\":\"heatmap\"}],\"histogram2d\":[{\"colorscale\":[[0.0,\"#000011\"],[0.1111111111111111,\"#000012\"],[0.2222222222222222,\"#000013\"],[0.3333333333333333,\"#000014\"],[0.4444444444444444,\"#000015\"],[0.5555555555555556,\"#000016\"],[0.6666666666666666,\"#000017\"],[0.7777777777777778,\"#000018\"],[0.8888888888888888,\"#000019\"],[1.0,\"#000020\"]],\"type\":\"histogram2d\"}],\"icicle\":[{\"textfont\":{\"color\":\"white\"},\"type\":\"icicle\"}],\"sankey\":[{\"textfont\":{\"color\":\"#000036\"},\"type\":\"sankey\"}],\"scatter\":[{\"marker\":{\"line\":{\"width\":0}},\"type\":\"scatter\"}],\"table\":[{\"cells\":{\"fill\":{\"color\":\"#000038\"},\"font\":{\"color\":\"#000037\"},\"line\":{\"color\":\"#000039\"}},\"header\":{\"fill\":{\"color\":\"#000040\"},\"font\":{\"color\":\"#000036\"},\"line\":{\"color\":\"#000039\"}},\"type\":\"table\"}],\"waterfall\":[{\"connector\":{\"line\":{\"color\":\"#000036\",\"width\":2}},\"decreasing\":{\"marker\":{\"color\":\"#000033\"}},\"increasing\":{\"marker\":{\"color\":\"#000032\"}},\"totals\":{\"marker\":{\"color\":\"#000034\"}},\"type\":\"waterfall\"}]},\"layout\":{\"coloraxis\":{\"colorscale\":[[0.0,\"#000011\"],[0.1111111111111111,\"#000012\"],[0.2222222222222222,\"#000013\"],[0.3333333333333333,\"#000014\"],[0.4444444444444444,\"#000015\"],[0.5555555555555556,\"#000016\"],[0.6666666666666666,\"#000017\"],[0.7777777777777778,\"#000018\"],[0.8888888888888888,\"#000019\"],[1.0,\"#000020\"]]},\"colorscale\":{\"diverging\":[[0.0,\"#000021\"],[0.1,\"#000022\"],[0.2,\"#000023\"],[0.3,\"#000024\"],[0.4,\"#000025\"],[0.5,\"#000026\"],[0.6,\"#000027\"],[0.7,\"#000028\"],[0.8,\"#000029\"],[0.9,\"#000030\"],[1.0,\"#000031\"]],\"sequential\":[[0.0,\"#000011\"],[0.1111111111111111,\"#000012\"],[0.2222222222222222,\"#000013\"],[0.3333333333333333,\"#000014\"],[0.4444444444444444,\"#000015\"],[0.5555555555555556,\"#000016\"],[0.6666666666666666,\"#000017\"],[0.7777777777777778,\"#000018\"],[0.8888888888888888,\"#000019\"],[1.0,\"#000020\"]],\"sequentialminus\":[[0.0,\"#000011\"],[0.1111111111111111,\"#000012\"],[0.2222222222222222,\"#000013\"],[0.3333333333333333,\"#000014\"],[0.4444444444444444,\"#000015\"],[0.5555555555555556,\"#000016\"],[0.6666666666666666,\"#000017\"],[0.7777777777777778,\"#000018\"],[0.8888888888888888,\"#000019\"],[1.0,\"#000020\"]]},\"colorway\":[\"#000001\",\"#000002\",\"#000003\",\"#000004\",\"#000005\",\"#000006\",\"#000007\",\"#000008\",\"#000009\",\"#000010\"]}},\"barmode\":\"stack\",\"title\":{\"text\":\"Stacked Bar Plot for CV_Category and ESC_ChromState_Gonzalez2021\"},\"xaxis\":{\"title\":{\"text\":\"Features\"}},\"yaxis\":{\"title\":{\"text\":\"Counts\"}},\"legend\":{\"title\":{\"text\":\"Categories\"}},\"plot_bgcolor\":\"white\"},                        {\"responsive\": true}                    )                };                            </script>        </div>"
      ],
      "text/plain": [
       "Figure({\n",
       "    'data': [{'hoverinfo': 'y',\n",
       "              'marker': {'color': 'grey'},\n",
       "              'name': 'CV: other',\n",
       "              'type': 'bar',\n",
       "              'x': [CV_Category],\n",
       "              'y': [7417]},\n",
       "             {'hoverinfo': 'y',\n",
       "              'marker': {'color': 'grey'},\n",
       "              'name': 'CV: STABLE',\n",
       "              'type': 'bar',\n",
       "              'x': [CV_Category],\n",
       "              'y': [3826]},\n",
       "             {'hoverinfo': 'y',\n",
       "              'marker': {'color': '#eea98d'},\n",
       "              'name': 'CV: RNA_CM',\n",
       "              'type': 'bar',\n",
       "              'x': [CV_Category],\n",
       "              'y': [1703]},\n",
       "             {'hoverinfo': 'y',\n",
       "              'marker': {'color': '#405074'},\n",
       "              'name': 'CV: RNA_ESC',\n",
       "              'type': 'bar',\n",
       "              'x': [CV_Category],\n",
       "              'y': [1202]},\n",
       "             {'hoverinfo': 'y',\n",
       "              'marker': {'color': '#c36171'},\n",
       "              'name': 'CV: RNA_CP',\n",
       "              'type': 'bar',\n",
       "              'x': [CV_Category],\n",
       "              'y': [489]},\n",
       "             {'hoverinfo': 'y',\n",
       "              'marker': {'color': '#7d5185'},\n",
       "              'name': 'CV: RNA_MES',\n",
       "              'type': 'bar',\n",
       "              'x': [CV_Category],\n",
       "              'y': [359]},\n",
       "             {'hoverinfo': 'y',\n",
       "              'marker': {'color': '#E5AA44'},\n",
       "              'name': 'ChromState: Active',\n",
       "              'type': 'bar',\n",
       "              'x': [ESC_ChromState_Gonzalez2021],\n",
       "              'y': [9186]},\n",
       "             {'hoverinfo': 'y',\n",
       "              'marker': {'color': 'grey'},\n",
       "              'name': 'ChromState: other',\n",
       "              'type': 'bar',\n",
       "              'x': [ESC_ChromState_Gonzalez2021],\n",
       "              'y': [3495]},\n",
       "             {'hoverinfo': 'y',\n",
       "              'marker': {'color': '#7442BE'},\n",
       "              'name': 'ChromState: Bivalent',\n",
       "              'type': 'bar',\n",
       "              'x': [ESC_ChromState_Gonzalez2021],\n",
       "              'y': [2315]}],\n",
       "    'layout': {'barmode': 'stack',\n",
       "               'legend': {'title': {'text': 'Categories'}},\n",
       "               'plot_bgcolor': 'white',\n",
       "               'template': '...',\n",
       "               'title': {'text': 'Stacked Bar Plot for CV_Category and ESC_ChromState_Gonzalez2021'},\n",
       "               'xaxis': {'title': {'text': 'Features'}},\n",
       "               'yaxis': {'title': {'text': 'Counts'}}}\n",
       "})"
      ]
     },
     "execution_count": 142,
     "metadata": {},
     "output_type": "execute_result"
    }
   ],
   "source": [
    "import streamlit as st\n",
    "import plotly.graph_objects as go\n",
    "\n",
    "# Example color dictionaries\n",
    "CV_COL_DICT = {'RNA_ESC': '#405074', 'RNA_MES': '#7d5185', 'RNA_CP': '#c36171', 'RNA_CM': '#eea98d', 'other': 'grey'}\n",
    "GONZALEZ_COL_DICT = {'Active': '#E5AA44', 'Bivalent': '#7442BE', 'other': 'grey'}\n",
    "\n",
    "# Placeholder DataFrame (replace with your actual DATA)\n",
    "import pandas as pd\n",
    "DATA = pd.DataFrame({\n",
    "    \"CV_Category\": [\"RNA_ESC\", \"RNA_MES\", \"RNA_CP\", \"RNA_CM\", \"RNA_ESC\", \"RNA_CP\"],\n",
    "    \"ESC_ChromState_Gonzalez2021\": [\"Active\", \"Bivalent\", \"Active\", \"Active\", \"Bivalent\", \"Active\"]\n",
    "})\n",
    "\n",
    "# Calculate counts for each category in the two features\n",
    "cv_counts = DATA[\"CV_Category\"].value_counts().to_dict()\n",
    "chrom_counts = DATA[\"ESC_ChromState_Gonzalez2021\"].value_counts().to_dict()\n",
    "\n",
    "# Create a unified figure with two stacked bar plots\n",
    "fig = go.Figure()\n",
    "\n",
    "# Add bars for CV_Category\n",
    "for category, count in cv_counts.items():\n",
    "    fig.add_trace(\n",
    "        go.Bar(\n",
    "            name=f\"CV: {category}\",\n",
    "            x=[\"CV_Category\"],\n",
    "            y=[count],\n",
    "            marker_color=CV_COL_DICT.get(category, CV_COL_DICT[\"other\"]),\n",
    "            hoverinfo=\"y\"\n",
    "        )\n",
    "    )\n",
    "\n",
    "# Add bars for ESC_ChromState_Gonzalez2021\n",
    "for category, count in chrom_counts.items():\n",
    "    fig.add_trace(\n",
    "        go.Bar(\n",
    "            name=f\"ChromState: {category}\",\n",
    "            x=[\"ESC_ChromState_Gonzalez2021\"],\n",
    "            y=[count],\n",
    "            marker_color=GONZALEZ_COL_DICT.get(category, GONZALEZ_COL_DICT[\"other\"]),\n",
    "            hoverinfo=\"y\"\n",
    "        )\n",
    "    )\n",
    "\n",
    "# Update layout for stacked bar\n",
    "fig.update_layout(\n",
    "    barmode=\"stack\",\n",
    "    title=\"Stacked Bar Plot for CV_Category and ESC_ChromState_Gonzalez2021\",\n",
    "    xaxis=dict(title=\"Features\"),\n",
    "    yaxis=dict(title=\"Counts\"),\n",
    "    legend=dict(title=\"Categories\"),\n",
    "    plot_bgcolor=\"white\"\n",
    ")\n",
    "\n",
    "# Display the plot in Streamlit\n",
    "st.plotly_chart(fig, use_container_width=True)\n"
   ]
  }
 ],
 "metadata": {
  "kernelspec": {
   "display_name": "streamlit",
   "language": "python",
   "name": "python3"
  },
  "language_info": {
   "codemirror_mode": {
    "name": "ipython",
    "version": 3
   },
   "file_extension": ".py",
   "mimetype": "text/x-python",
   "name": "python",
   "nbconvert_exporter": "python",
   "pygments_lexer": "ipython3",
   "version": "3.12.7"
  }
 },
 "nbformat": 4,
 "nbformat_minor": 2
}
