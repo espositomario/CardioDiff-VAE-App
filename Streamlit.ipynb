{
 "cells": [
  {
   "cell_type": "code",
   "execution_count": 179,
   "metadata": {},
   "outputs": [],
   "source": [
    "CT_LIST = ['ESC', 'MES', 'CP', 'CM']\n",
    "HM_LIST = ['H3K4me3', 'H3K27ac', 'H3K27me3',  'RNA']\n",
    "PREFIXES = [HM + '_' + CT for HM in HM_LIST for CT in CT_LIST]\n",
    "\n",
    "\n",
    "MARKER_GENES_EXT = {'ESC': ['Nanog','Pou5f1','Sox2','L1td1','Dppa5a','Tdh','Esrrb','Lefty1','Zfp42','Sfn','Lncenc1','Utf1'],\n",
    "                    'MES': ['Mesp1','Mesp2','T', 'Vrtn','Dll3','Dll1', 'Evx1','Cxcr4','Pcdh8','Pcdh19','Robo3','Slit1'],\n",
    "                    'CP':  ['Sfrp5', 'Gata5', 'Tek','Hbb-bh1','Hba-x', 'Pyy','Sox18','Lyl1','Rgs4','Igsf11','Tlx1','Ctse'],\n",
    "                    'CM':  ['Nppa','Gipr', 'Actn2', 'Coro6', 'Col3a1', 'Bgn','Myh6','Myh7','Tnni3','Hspb7' ,'Igfbp7','Ndrg2'],\n",
    "                    }\n",
    "\n",
    "\n",
    "\n",
    "HM_COL_DICT = {'H3K4me3': '#f37654','H3K27ac': '#b62a77','H3K27me3': '#39A8AC','RNA':'#ED455C'}\n",
    "CT_COL_DICT= {'ESC': '#405074',\n",
    "                'MES': '#7d5185',\n",
    "                'CP': '#c36171',\n",
    "                'CM': '#eea98d',}\n",
    "SET_COL_DICT= {'training':'#97DA58','validation':'#9b58da','test':'#DA5A58'}\n",
    "GONZALEZ_COL_DICT= {'Active': '#E5AA44','Bivalent': '#7442BE'}"
   ]
  },
  {
   "cell_type": "code",
   "execution_count": 180,
   "metadata": {},
   "outputs": [],
   "source": [
    "import plotly.express as px\n",
    "import pandas as pd\n",
    "import pickle\n",
    "\n",
    "\n",
    "\n",
    "# Load gene cluster dictionary\n",
    "with open(f'./data/gene_clusters_dict.pkl', 'rb') as f:\n",
    "    GENE_CLUSTERS = pickle.load(f)\n",
    "\n",
    "# Load CODE and LOG matrices\n",
    "CODE = pd.read_csv(f'./data/CODE.csv', index_col='GENE')\n",
    "CODE = CODE.iloc[:, 18:]\n",
    "CODE.drop(columns=['AE_RMSE','AE_Sc', 'PCA_RMSE', 'PCA_Sc', 'UMAP_RMSE', 'UMAP_Sc'],inplace=True)\n",
    "LOG = pd.read_csv(f'./data/ALL_X_FC.csv').set_index('GENE')\n"
   ]
  },
  {
   "cell_type": "code",
   "execution_count": 181,
   "metadata": {},
   "outputs": [],
   "source": [
    "name = 'TOP'\n",
    "N_TOP = 4000\n",
    "with open(f'./data/RNA_CV/{name}{N_TOP}/dict.pkl', 'rb') as f:\n",
    "    CV = pickle.load(f)\n",
    "name = 'BOTTOM'\n",
    "with open(f'./data/RNA_CV/{name}{N_TOP}/dict.pkl', 'rb') as f:\n",
    "    BOTTOM_CV = pickle.load(f)\n",
    "    \n",
    "STABLE = [gene for gene_list in BOTTOM_CV.values() for gene in gene_list]\n",
    "CV['STABLE'] = STABLE\n",
    "\n",
    "CV_MAP={}\n",
    "for CV_CAT, gene_list in CV.items():\n",
    "    for gene in gene_list:\n",
    "        CV_MAP[gene] = CV_CAT\n",
    "        \n",
    "CODE[\"CV_Category\"] = CODE.index.map(CV_MAP)\n",
    "CODE['CV_Category'] = CODE['CV_Category'].fillna('other')"
   ]
  },
  {
   "cell_type": "code",
   "execution_count": 182,
   "metadata": {},
   "outputs": [
    {
     "data": {
      "text/plain": [
       "ESC_ChromState_Gonzalez2021\n",
       "Active      9186\n",
       "other       3495\n",
       "Bivalent    2315\n",
       "Name: count, dtype: int64"
      ]
     },
     "execution_count": 182,
     "metadata": {},
     "output_type": "execute_result"
    }
   ],
   "source": [
    "with open('./data/gonzalez_dict.pkl', 'rb') as f:\n",
    "    GONZALEZ = pickle.load(f)\n",
    "GONZALEZ_MAP={}\n",
    "for GONZALEZ_CAT, gene_list in GONZALEZ.items():\n",
    "    for gene in gene_list:\n",
    "        GONZALEZ_MAP[gene] = GONZALEZ_CAT\n",
    "CODE[\"ESC_ChromState_Gonzalez2021\"] = CODE.index.map(GONZALEZ_MAP)\n",
    "CODE['ESC_ChromState_Gonzalez2021'] = CODE['ESC_ChromState_Gonzalez2021'].fillna('other')\n",
    "CODE['ESC_ChromState_Gonzalez2021'].value_counts()"
   ]
  },
  {
   "cell_type": "code",
   "execution_count": 183,
   "metadata": {},
   "outputs": [],
   "source": [
    "\n",
    "# Map cluster IDs to CODE and LOG\n",
    "gene_to_cluster = {}\n",
    "for cluster_id, gene_list in GENE_CLUSTERS.items():\n",
    "    for gene in gene_list['gene_list']:\n",
    "        gene_to_cluster[gene] = cluster_id\n",
    "CODE[\"Cluster\"] = CODE.index.map(gene_to_cluster).astype(int)\n"
   ]
  },
  {
   "cell_type": "code",
   "execution_count": 184,
   "metadata": {},
   "outputs": [],
   "source": [
    "CODE = CODE[['Cluster','RNA_CV','CV_Category', 'ESC_ChromState_Gonzalez2021',\n",
    "                'RNA_ESC', 'RNA_MES', 'RNA_CP', 'RNA_CM',\n",
    "\n",
    "    'H3K4me3_ESC','H3K4me3_MES', 'H3K4me3_CP', 'H3K4me3_CM', 'H3K27ac_ESC', 'H3K27ac_MES',\n",
    "        'H3K27ac_CP', 'H3K27ac_CM', 'H3K27me3_ESC', 'H3K27me3_MES',\n",
    "        'H3K27me3_CP', 'H3K27me3_CM', \n",
    "        \n",
    "        'RNA_CM_CP_FC', 'RNA_CM_MES_FC', 'RNA_CM_ESC_FC', 'RNA_CP_MES_FC','RNA_CP_ESC_FC', 'RNA_MES_ESC_FC', \n",
    "        'VAE_RMSE', 'VAE_Sc', \n",
    "        \n",
    "        'VAE1', 'VAE2', 'VAE3', 'VAE4', 'VAE5', 'VAE6', 'VAE_UMAP1', 'VAE_UMAP2',]]\n",
    "CODE['Cluster'] = pd.Categorical(CODE['Cluster'])"
   ]
  },
  {
   "cell_type": "code",
   "execution_count": 185,
   "metadata": {},
   "outputs": [],
   "source": [
    "RNA_FPKM= pd.read_csv(f'./data/RNA_FPKMs.csv', index_col='GENE')\n",
    "assert list(RNA_FPKM.index) == list(CODE.index)\n",
    "#concatenate the two dataframes\n",
    "DATA = pd.concat([CODE, RNA_FPKM], axis=1)\n",
    "DATA.to_csv(f'./data/DATA.csv')\n",
    "\n",
    "Z_AVG_features = ['RNA_ESC', 'RNA_MES', 'RNA_CP', 'RNA_CM', 'H3K4me3_ESC', 'H3K4me3_MES',\n",
    "        'H3K4me3_CP', 'H3K4me3_CM', 'H3K27ac_ESC', 'H3K27ac_MES', 'H3K27ac_CP',\n",
    "        'H3K27ac_CM', 'H3K27me3_ESC', 'H3K27me3_MES', 'H3K27me3_CP',\n",
    "        'H3K27me3_CM']\n",
    "LOG_FC_features = ['RNA_CM_CP_FC', 'RNA_CM_MES_FC', 'RNA_CM_ESC_FC',\n",
    "            'RNA_CP_MES_FC', 'RNA_CP_ESC_FC', 'RNA_MES_ESC_FC']\n",
    "\n",
    "MISC_features = [ 'VAE_RMSE', 'VAE_Sc', 'RNA_CV', 'CV_Category', 'ESC_ChromState_Gonzalez2021', 'Cluster']\n",
    "\n",
    "LATENT_features = ['VAE1', 'VAE2', 'VAE3', 'VAE4', 'VAE5', 'VAE6', 'VAE_UMAP1', 'VAE_UMAP2']\n",
    "\n",
    "FPKM_features = [ 'RNA_ESC_1', 'RNA_ESC_2', 'RNA_MES_1', 'RNA_MES_2',\n",
    "            'RNA_CP_1', 'RNA_CP_2', 'RNA_CM_1', 'RNA_CM_2']\n",
    "\n",
    "\n",
    "Z_AVG = DATA[Z_AVG_features]\n",
    "\n",
    "LOG_FC = DATA[LOG_FC_features]\n",
    "\n",
    "MISC = DATA[MISC_features]\n",
    "\n",
    "LATENT = DATA[LATENT_features]\n",
    "\n",
    "FPKM = DATA[FPKM_features]\n"
   ]
  },
  {
   "cell_type": "code",
   "execution_count": 119,
   "metadata": {},
   "outputs": [],
   "source": [
    "FPKM = DATA.filter(FPKM_features)\n",
    "\n",
    "\n",
    "import plotly.graph_objects as go\n",
    "from plotly.subplots import make_subplots\n",
    "import numpy as np\n",
    "import pandas as pd\n",
    "\n"
   ]
  },
  {
   "cell_type": "code",
   "execution_count": 175,
   "metadata": {},
   "outputs": [],
   "source": [
    "def plot_sankey(DATA, SEL_GENES, FEATURE_CAT, COL_DICT, font_size=12, font_color=\"black\", font_family=\"Arial\", link_opacity=0.5):\n",
    "    \"\"\"\n",
    "    Create a Sankey diagram with FEATURE_CAT as the first layer, genes as the second, and clusters as the last.\n",
    "    Links between FEATURE_CAT and clusters are colored based on FEATURE_CAT.\n",
    "\n",
    "    Parameters:\n",
    "    - DATA (pd.DataFrame): Input data with genes as index.\n",
    "    - SEL_GENES (list): List of selected gene names.\n",
    "    - FEATURE_CAT (str): The column name for categorical features to add as the first layer.\n",
    "    - COL_DICT (dict): A dictionary mapping FEATURE_CAT values to colors in hex format.\n",
    "    - font_size (int): Font size for node labels.\n",
    "    - font_color (str): Font color for node labels.\n",
    "    - font_family (str): Font family for node labels.\n",
    "    - link_opacity (float): Opacity for the links (0.0 to 1.0).\n",
    "\n",
    "    Returns:\n",
    "    - fig: A Plotly Sankey figure.\n",
    "    \"\"\"\n",
    "    import matplotlib.colors as mcolors\n",
    "\n",
    "    if FEATURE_CAT not in DATA.columns:\n",
    "        raise ValueError(f\"The feature '{FEATURE_CAT}' is not in the provided DATA.\")\n",
    "\n",
    "    # Filter for selected genes\n",
    "    data_filtered = DATA.loc[SEL_GENES]\n",
    "\n",
    "    # Create node labels\n",
    "    feature_nodes = data_filtered[FEATURE_CAT].unique().tolist()  # FEATURE_CAT as the first level\n",
    "    gene_nodes = SEL_GENES  # Gene names as the second level\n",
    "    cluster_nodes = data_filtered[\"Cluster\"].unique().tolist()  # Clusters as the last level\n",
    "\n",
    "    all_nodes = feature_nodes + gene_nodes + cluster_nodes  # Combine all nodes\n",
    "    node_map = {node: i for i, node in enumerate(all_nodes)}  # Map node name to index\n",
    "\n",
    "    # Create links\n",
    "    links = []\n",
    "    link_colors = []\n",
    "\n",
    "    # Links from FEATURE_CAT to genes\n",
    "    for gene, row in data_filtered.iterrows():\n",
    "        feature_value = row[FEATURE_CAT]\n",
    "        links.append({\n",
    "            \"source\": node_map[feature_value],\n",
    "            \"target\": node_map[gene],\n",
    "            \"value\": 1  # Equal weight for all links\n",
    "        })\n",
    "        link_colors.append(\"rgba(192,192,192,0.3)\")  # Light gray for FEATURE_CAT-to-gene links\n",
    "\n",
    "    # Links from genes to clusters\n",
    "    for gene, row in data_filtered.iterrows():\n",
    "        cluster = row[\"Cluster\"]\n",
    "        feature_value = row[FEATURE_CAT]\n",
    "        hex_color = COL_DICT.get(feature_value, \"#808080\")  # Default to gray\n",
    "        rgba_color = mcolors.to_rgba(hex_color, alpha=link_opacity)  # Convert hex to RGBA\n",
    "        rgba_str = f\"rgba({int(rgba_color[0]*255)}, {int(rgba_color[1]*255)}, {int(rgba_color[2]*255)}, {rgba_color[3]})\"\n",
    "        links.append({\n",
    "            \"source\": node_map[gene],\n",
    "            \"target\": node_map[cluster],\n",
    "            \"value\": 1  # Equal weight for all links\n",
    "        })\n",
    "        link_colors.append(rgba_str)\n",
    "\n",
    "    # Define node colors\n",
    "    node_colors = []\n",
    "    for node in all_nodes:\n",
    "        if node in feature_nodes:  # FEATURE_CAT nodes\n",
    "            node_colors.append(COL_DICT.get(node, \"#808080\"))  # Color by FEATURE_CAT\n",
    "        elif node in gene_nodes:  # Gene nodes\n",
    "            node_colors.append(\"silver\")  # Default gray for genes\n",
    "        else:  # Cluster nodes\n",
    "            node_colors.append(\"silver\")  # Light blue for clusters\n",
    "\n",
    "    # Create Sankey diagram\n",
    "    fig = go.Figure(go.Sankey(\n",
    "        textfont=dict(size=font_size, color=font_color,shadow=None) ,\n",
    "        node=dict(\n",
    "            pad=5,\n",
    "            thickness=10,\n",
    "            line=dict(color=\"black\", width=0.5),\n",
    "            label=all_nodes,\n",
    "            color=node_colors,\n",
    "            hovertemplate='%{label}<extra></extra>',\n",
    "            \n",
    "            \n",
    "        ),\n",
    "        link=dict(\n",
    "            source=[link[\"source\"] for link in links],\n",
    "            target=[link[\"target\"] for link in links],\n",
    "            value=[link[\"value\"] for link in links],\n",
    "            color=link_colors,# Colored links between FEATURE_CAT and clusters\n",
    "            hovertemplate='Gene: %{source.label}<br>Cluster: %{target.label}',\n",
    "        )\n",
    "    ))\n",
    "\n",
    "\n",
    "    # Update layout\n",
    "    fig.update_layout(\n",
    "        title_text=\"\",\n",
    "        margin=dict(t=50, l=25, r=25, b=25),\n",
    "    )\n",
    "    # Add titles for layers\n",
    "    fig.add_annotation(x=0.02, y=1.1, text=\"Category\", showarrow=False, font=dict(size=16))\n",
    "    fig.add_annotation(x=0.5, y=1.1, text=\"Gene\", showarrow=False, font=dict(size=16))\n",
    "    fig.add_annotation(x=0.98, y=1.1, text=\"Cluster\", showarrow=False, font=dict(size=16), xanchor='right')\n",
    "\n",
    "    return fig\n"
   ]
  },
  {
   "cell_type": "code",
   "execution_count": 177,
   "metadata": {},
   "outputs": [
    {
     "ename": "ValueError",
     "evalue": "Mime type rendering requires nbformat>=4.2.0 but it is not installed",
     "output_type": "error",
     "traceback": [
      "\u001b[0;31m---------------------------------------------------------------------------\u001b[0m",
      "\u001b[0;31mValueError\u001b[0m                                Traceback (most recent call last)",
      "File \u001b[0;32m~/miniconda3/envs/streamlit/lib/python3.12/site-packages/IPython/core/formatters.py:925\u001b[0m, in \u001b[0;36mIPythonDisplayFormatter.__call__\u001b[0;34m(self, obj)\u001b[0m\n\u001b[1;32m    923\u001b[0m method \u001b[38;5;241m=\u001b[39m get_real_method(obj, \u001b[38;5;28mself\u001b[39m\u001b[38;5;241m.\u001b[39mprint_method)\n\u001b[1;32m    924\u001b[0m \u001b[38;5;28;01mif\u001b[39;00m method \u001b[38;5;129;01mis\u001b[39;00m \u001b[38;5;129;01mnot\u001b[39;00m \u001b[38;5;28;01mNone\u001b[39;00m:\n\u001b[0;32m--> 925\u001b[0m     \u001b[43mmethod\u001b[49m\u001b[43m(\u001b[49m\u001b[43m)\u001b[49m\n\u001b[1;32m    926\u001b[0m     \u001b[38;5;28;01mreturn\u001b[39;00m \u001b[38;5;28;01mTrue\u001b[39;00m\n",
      "File \u001b[0;32m~/miniconda3/envs/streamlit/lib/python3.12/site-packages/plotly/basedatatypes.py:832\u001b[0m, in \u001b[0;36mBaseFigure._ipython_display_\u001b[0;34m(self)\u001b[0m\n\u001b[1;32m    829\u001b[0m \u001b[38;5;28;01mimport\u001b[39;00m \u001b[38;5;21;01mplotly\u001b[39;00m\u001b[38;5;21;01m.\u001b[39;00m\u001b[38;5;21;01mio\u001b[39;00m \u001b[38;5;28;01mas\u001b[39;00m \u001b[38;5;21;01mpio\u001b[39;00m\n\u001b[1;32m    831\u001b[0m \u001b[38;5;28;01mif\u001b[39;00m pio\u001b[38;5;241m.\u001b[39mrenderers\u001b[38;5;241m.\u001b[39mrender_on_display \u001b[38;5;129;01mand\u001b[39;00m pio\u001b[38;5;241m.\u001b[39mrenderers\u001b[38;5;241m.\u001b[39mdefault:\n\u001b[0;32m--> 832\u001b[0m     \u001b[43mpio\u001b[49m\u001b[38;5;241;43m.\u001b[39;49m\u001b[43mshow\u001b[49m\u001b[43m(\u001b[49m\u001b[38;5;28;43mself\u001b[39;49m\u001b[43m)\u001b[49m\n\u001b[1;32m    833\u001b[0m \u001b[38;5;28;01melse\u001b[39;00m:\n\u001b[1;32m    834\u001b[0m     \u001b[38;5;28mprint\u001b[39m(\u001b[38;5;28mrepr\u001b[39m(\u001b[38;5;28mself\u001b[39m))\n",
      "File \u001b[0;32m~/miniconda3/envs/streamlit/lib/python3.12/site-packages/plotly/io/_renderers.py:394\u001b[0m, in \u001b[0;36mshow\u001b[0;34m(fig, renderer, validate, **kwargs)\u001b[0m\n\u001b[1;32m    389\u001b[0m         \u001b[38;5;28;01mraise\u001b[39;00m \u001b[38;5;167;01mValueError\u001b[39;00m(\n\u001b[1;32m    390\u001b[0m             \u001b[38;5;124m\"\u001b[39m\u001b[38;5;124mMime type rendering requires ipython but it is not installed\u001b[39m\u001b[38;5;124m\"\u001b[39m\n\u001b[1;32m    391\u001b[0m         )\n\u001b[1;32m    393\u001b[0m     \u001b[38;5;28;01mif\u001b[39;00m \u001b[38;5;129;01mnot\u001b[39;00m nbformat \u001b[38;5;129;01mor\u001b[39;00m Version(nbformat\u001b[38;5;241m.\u001b[39m__version__) \u001b[38;5;241m<\u001b[39m Version(\u001b[38;5;124m\"\u001b[39m\u001b[38;5;124m4.2.0\u001b[39m\u001b[38;5;124m\"\u001b[39m):\n\u001b[0;32m--> 394\u001b[0m         \u001b[38;5;28;01mraise\u001b[39;00m \u001b[38;5;167;01mValueError\u001b[39;00m(\n\u001b[1;32m    395\u001b[0m             \u001b[38;5;124m\"\u001b[39m\u001b[38;5;124mMime type rendering requires nbformat>=4.2.0 but it is not installed\u001b[39m\u001b[38;5;124m\"\u001b[39m\n\u001b[1;32m    396\u001b[0m         )\n\u001b[1;32m    398\u001b[0m     ipython_display\u001b[38;5;241m.\u001b[39mdisplay(bundle, raw\u001b[38;5;241m=\u001b[39m\u001b[38;5;28;01mTrue\u001b[39;00m)\n\u001b[1;32m    400\u001b[0m \u001b[38;5;66;03m# external renderers\u001b[39;00m\n",
      "\u001b[0;31mValueError\u001b[0m: Mime type rendering requires nbformat>=4.2.0 but it is not installed"
     ]
    },
    {
     "data": {
      "application/vnd.plotly.v1+json": {
       "config": {
        "plotlyServerURL": "https://plot.ly"
       },
       "data": [
        {
         "link": {
          "color": [
           "rgba(192,192,192,0.3)",
           "rgba(192,192,192,0.3)",
           "rgba(192,192,192,0.3)",
           "rgba(192,192,192,0.3)",
           "rgba(192,192,192,0.3)",
           "rgba(192,192,192,0.3)",
           "rgba(192,192,192,0.3)",
           "rgba(192,192,192,0.3)",
           "rgba(192,192,192,0.3)",
           "rgba(192,192,192,0.3)",
           "rgba(192,192,192,0.3)",
           "rgba(192,192,192,0.3)",
           "rgba(192,192,192,0.3)",
           "rgba(192,192,192,0.3)",
           "rgba(192,192,192,0.3)",
           "rgba(192,192,192,0.3)",
           "rgba(64, 80, 116, 0.9)",
           "rgba(64, 80, 116, 0.9)",
           "rgba(64, 80, 116, 0.9)",
           "rgba(64, 80, 116, 0.9)",
           "rgba(125, 81, 133, 0.9)",
           "rgba(125, 81, 133, 0.9)",
           "rgba(125, 81, 133, 0.9)",
           "rgba(125, 81, 133, 0.9)",
           "rgba(195, 97, 113, 0.9)",
           "rgba(195, 97, 113, 0.9)",
           "rgba(195, 97, 113, 0.9)",
           "rgba(195, 97, 113, 0.9)",
           "rgba(238, 169, 141, 0.9)",
           "rgba(238, 169, 141, 0.9)",
           "rgba(238, 169, 141, 0.9)",
           "rgba(238, 169, 141, 0.9)"
          ],
          "hovertemplate": "Gene: %{source.label}<br>Cluster: %{target.label}",
          "source": [
           0,
           0,
           0,
           0,
           1,
           1,
           1,
           1,
           2,
           2,
           2,
           2,
           3,
           3,
           3,
           3,
           4,
           5,
           6,
           7,
           8,
           9,
           10,
           11,
           12,
           13,
           14,
           15,
           16,
           17,
           18,
           19
          ],
          "target": [
           4,
           5,
           6,
           7,
           8,
           9,
           10,
           11,
           12,
           13,
           14,
           15,
           16,
           17,
           18,
           19,
           20,
           21,
           22,
           20,
           23,
           21,
           23,
           23,
           24,
           25,
           24,
           24,
           26,
           27,
           26,
           26
          ],
          "value": [
           1,
           1,
           1,
           1,
           1,
           1,
           1,
           1,
           1,
           1,
           1,
           1,
           1,
           1,
           1,
           1,
           1,
           1,
           1,
           1,
           1,
           1,
           1,
           1,
           1,
           1,
           1,
           1,
           1,
           1,
           1,
           1
          ]
         },
         "node": {
          "color": [
           "#405074",
           "#7d5185",
           "#c36171",
           "#eea98d",
           "silver",
           "silver",
           "silver",
           "silver",
           "silver",
           "silver",
           "silver",
           "silver",
           "silver",
           "silver",
           "silver",
           "silver",
           "silver",
           "silver",
           "silver",
           "silver",
           "silver",
           "silver",
           "silver",
           "silver",
           "silver",
           "silver",
           "silver",
           "silver"
          ],
          "hovertemplate": "%{label}<extra></extra>",
          "label": [
           "RNA_ESC",
           "RNA_MES",
           "RNA_CP",
           "RNA_CM",
           "Nanog",
           "Pou5f1",
           "Sox2",
           "Dppa5a",
           "Mesp1",
           "T",
           "Vrtn",
           "Dll3",
           "Gata5",
           "Tek",
           "Sox18",
           "Lyl1",
           "Actn2",
           "Coro6",
           "Myh6",
           "Myh7",
           39,
           53,
           29,
           48,
           17,
           22,
           70,
           68
          ],
          "line": {
           "color": "black",
           "width": 0.5
          },
          "pad": 5,
          "thickness": 10
         },
         "textfont": {
          "color": "white",
          "size": 14
         },
         "type": "sankey"
        }
       ],
       "layout": {
        "annotations": [
         {
          "font": {
           "size": 16
          },
          "showarrow": false,
          "text": "Category",
          "x": 0.02,
          "y": 1.1
         },
         {
          "font": {
           "size": 16
          },
          "showarrow": false,
          "text": "Gene",
          "x": 0.5,
          "y": 1.1
         },
         {
          "font": {
           "size": 16
          },
          "showarrow": false,
          "text": "Cluster",
          "x": 0.98,
          "xanchor": "right",
          "y": 1.1
         }
        ],
        "margin": {
         "b": 25,
         "l": 25,
         "r": 25,
         "t": 50
        },
        "template": {
         "data": {
          "bar": [
           {
            "error_x": {
             "color": "#2a3f5f"
            },
            "error_y": {
             "color": "#2a3f5f"
            },
            "marker": {
             "line": {
              "color": "#E5ECF6",
              "width": 0.5
             },
             "pattern": {
              "fillmode": "overlay",
              "size": 10,
              "solidity": 0.2
             }
            },
            "type": "bar"
           }
          ],
          "barpolar": [
           {
            "marker": {
             "line": {
              "color": "#E5ECF6",
              "width": 0.5
             },
             "pattern": {
              "fillmode": "overlay",
              "size": 10,
              "solidity": 0.2
             }
            },
            "type": "barpolar"
           }
          ],
          "carpet": [
           {
            "aaxis": {
             "endlinecolor": "#2a3f5f",
             "gridcolor": "white",
             "linecolor": "white",
             "minorgridcolor": "white",
             "startlinecolor": "#2a3f5f"
            },
            "baxis": {
             "endlinecolor": "#2a3f5f",
             "gridcolor": "white",
             "linecolor": "white",
             "minorgridcolor": "white",
             "startlinecolor": "#2a3f5f"
            },
            "type": "carpet"
           }
          ],
          "choropleth": [
           {
            "colorbar": {
             "outlinewidth": 0,
             "ticks": ""
            },
            "type": "choropleth"
           }
          ],
          "contour": [
           {
            "colorbar": {
             "outlinewidth": 0,
             "ticks": ""
            },
            "colorscale": [
             [
              0,
              "#0d0887"
             ],
             [
              0.1111111111111111,
              "#46039f"
             ],
             [
              0.2222222222222222,
              "#7201a8"
             ],
             [
              0.3333333333333333,
              "#9c179e"
             ],
             [
              0.4444444444444444,
              "#bd3786"
             ],
             [
              0.5555555555555556,
              "#d8576b"
             ],
             [
              0.6666666666666666,
              "#ed7953"
             ],
             [
              0.7777777777777778,
              "#fb9f3a"
             ],
             [
              0.8888888888888888,
              "#fdca26"
             ],
             [
              1,
              "#f0f921"
             ]
            ],
            "type": "contour"
           }
          ],
          "contourcarpet": [
           {
            "colorbar": {
             "outlinewidth": 0,
             "ticks": ""
            },
            "type": "contourcarpet"
           }
          ],
          "heatmap": [
           {
            "colorbar": {
             "outlinewidth": 0,
             "ticks": ""
            },
            "colorscale": [
             [
              0,
              "#0d0887"
             ],
             [
              0.1111111111111111,
              "#46039f"
             ],
             [
              0.2222222222222222,
              "#7201a8"
             ],
             [
              0.3333333333333333,
              "#9c179e"
             ],
             [
              0.4444444444444444,
              "#bd3786"
             ],
             [
              0.5555555555555556,
              "#d8576b"
             ],
             [
              0.6666666666666666,
              "#ed7953"
             ],
             [
              0.7777777777777778,
              "#fb9f3a"
             ],
             [
              0.8888888888888888,
              "#fdca26"
             ],
             [
              1,
              "#f0f921"
             ]
            ],
            "type": "heatmap"
           }
          ],
          "heatmapgl": [
           {
            "colorbar": {
             "outlinewidth": 0,
             "ticks": ""
            },
            "colorscale": [
             [
              0,
              "#0d0887"
             ],
             [
              0.1111111111111111,
              "#46039f"
             ],
             [
              0.2222222222222222,
              "#7201a8"
             ],
             [
              0.3333333333333333,
              "#9c179e"
             ],
             [
              0.4444444444444444,
              "#bd3786"
             ],
             [
              0.5555555555555556,
              "#d8576b"
             ],
             [
              0.6666666666666666,
              "#ed7953"
             ],
             [
              0.7777777777777778,
              "#fb9f3a"
             ],
             [
              0.8888888888888888,
              "#fdca26"
             ],
             [
              1,
              "#f0f921"
             ]
            ],
            "type": "heatmapgl"
           }
          ],
          "histogram": [
           {
            "marker": {
             "pattern": {
              "fillmode": "overlay",
              "size": 10,
              "solidity": 0.2
             }
            },
            "type": "histogram"
           }
          ],
          "histogram2d": [
           {
            "colorbar": {
             "outlinewidth": 0,
             "ticks": ""
            },
            "colorscale": [
             [
              0,
              "#0d0887"
             ],
             [
              0.1111111111111111,
              "#46039f"
             ],
             [
              0.2222222222222222,
              "#7201a8"
             ],
             [
              0.3333333333333333,
              "#9c179e"
             ],
             [
              0.4444444444444444,
              "#bd3786"
             ],
             [
              0.5555555555555556,
              "#d8576b"
             ],
             [
              0.6666666666666666,
              "#ed7953"
             ],
             [
              0.7777777777777778,
              "#fb9f3a"
             ],
             [
              0.8888888888888888,
              "#fdca26"
             ],
             [
              1,
              "#f0f921"
             ]
            ],
            "type": "histogram2d"
           }
          ],
          "histogram2dcontour": [
           {
            "colorbar": {
             "outlinewidth": 0,
             "ticks": ""
            },
            "colorscale": [
             [
              0,
              "#0d0887"
             ],
             [
              0.1111111111111111,
              "#46039f"
             ],
             [
              0.2222222222222222,
              "#7201a8"
             ],
             [
              0.3333333333333333,
              "#9c179e"
             ],
             [
              0.4444444444444444,
              "#bd3786"
             ],
             [
              0.5555555555555556,
              "#d8576b"
             ],
             [
              0.6666666666666666,
              "#ed7953"
             ],
             [
              0.7777777777777778,
              "#fb9f3a"
             ],
             [
              0.8888888888888888,
              "#fdca26"
             ],
             [
              1,
              "#f0f921"
             ]
            ],
            "type": "histogram2dcontour"
           }
          ],
          "mesh3d": [
           {
            "colorbar": {
             "outlinewidth": 0,
             "ticks": ""
            },
            "type": "mesh3d"
           }
          ],
          "parcoords": [
           {
            "line": {
             "colorbar": {
              "outlinewidth": 0,
              "ticks": ""
             }
            },
            "type": "parcoords"
           }
          ],
          "pie": [
           {
            "automargin": true,
            "type": "pie"
           }
          ],
          "scatter": [
           {
            "fillpattern": {
             "fillmode": "overlay",
             "size": 10,
             "solidity": 0.2
            },
            "type": "scatter"
           }
          ],
          "scatter3d": [
           {
            "line": {
             "colorbar": {
              "outlinewidth": 0,
              "ticks": ""
             }
            },
            "marker": {
             "colorbar": {
              "outlinewidth": 0,
              "ticks": ""
             }
            },
            "type": "scatter3d"
           }
          ],
          "scattercarpet": [
           {
            "marker": {
             "colorbar": {
              "outlinewidth": 0,
              "ticks": ""
             }
            },
            "type": "scattercarpet"
           }
          ],
          "scattergeo": [
           {
            "marker": {
             "colorbar": {
              "outlinewidth": 0,
              "ticks": ""
             }
            },
            "type": "scattergeo"
           }
          ],
          "scattergl": [
           {
            "marker": {
             "colorbar": {
              "outlinewidth": 0,
              "ticks": ""
             }
            },
            "type": "scattergl"
           }
          ],
          "scattermapbox": [
           {
            "marker": {
             "colorbar": {
              "outlinewidth": 0,
              "ticks": ""
             }
            },
            "type": "scattermapbox"
           }
          ],
          "scatterpolar": [
           {
            "marker": {
             "colorbar": {
              "outlinewidth": 0,
              "ticks": ""
             }
            },
            "type": "scatterpolar"
           }
          ],
          "scatterpolargl": [
           {
            "marker": {
             "colorbar": {
              "outlinewidth": 0,
              "ticks": ""
             }
            },
            "type": "scatterpolargl"
           }
          ],
          "scatterternary": [
           {
            "marker": {
             "colorbar": {
              "outlinewidth": 0,
              "ticks": ""
             }
            },
            "type": "scatterternary"
           }
          ],
          "surface": [
           {
            "colorbar": {
             "outlinewidth": 0,
             "ticks": ""
            },
            "colorscale": [
             [
              0,
              "#0d0887"
             ],
             [
              0.1111111111111111,
              "#46039f"
             ],
             [
              0.2222222222222222,
              "#7201a8"
             ],
             [
              0.3333333333333333,
              "#9c179e"
             ],
             [
              0.4444444444444444,
              "#bd3786"
             ],
             [
              0.5555555555555556,
              "#d8576b"
             ],
             [
              0.6666666666666666,
              "#ed7953"
             ],
             [
              0.7777777777777778,
              "#fb9f3a"
             ],
             [
              0.8888888888888888,
              "#fdca26"
             ],
             [
              1,
              "#f0f921"
             ]
            ],
            "type": "surface"
           }
          ],
          "table": [
           {
            "cells": {
             "fill": {
              "color": "#EBF0F8"
             },
             "line": {
              "color": "white"
             }
            },
            "header": {
             "fill": {
              "color": "#C8D4E3"
             },
             "line": {
              "color": "white"
             }
            },
            "type": "table"
           }
          ]
         },
         "layout": {
          "annotationdefaults": {
           "arrowcolor": "#2a3f5f",
           "arrowhead": 0,
           "arrowwidth": 1
          },
          "autotypenumbers": "strict",
          "coloraxis": {
           "colorbar": {
            "outlinewidth": 0,
            "ticks": ""
           }
          },
          "colorscale": {
           "diverging": [
            [
             0,
             "#8e0152"
            ],
            [
             0.1,
             "#c51b7d"
            ],
            [
             0.2,
             "#de77ae"
            ],
            [
             0.3,
             "#f1b6da"
            ],
            [
             0.4,
             "#fde0ef"
            ],
            [
             0.5,
             "#f7f7f7"
            ],
            [
             0.6,
             "#e6f5d0"
            ],
            [
             0.7,
             "#b8e186"
            ],
            [
             0.8,
             "#7fbc41"
            ],
            [
             0.9,
             "#4d9221"
            ],
            [
             1,
             "#276419"
            ]
           ],
           "sequential": [
            [
             0,
             "#0d0887"
            ],
            [
             0.1111111111111111,
             "#46039f"
            ],
            [
             0.2222222222222222,
             "#7201a8"
            ],
            [
             0.3333333333333333,
             "#9c179e"
            ],
            [
             0.4444444444444444,
             "#bd3786"
            ],
            [
             0.5555555555555556,
             "#d8576b"
            ],
            [
             0.6666666666666666,
             "#ed7953"
            ],
            [
             0.7777777777777778,
             "#fb9f3a"
            ],
            [
             0.8888888888888888,
             "#fdca26"
            ],
            [
             1,
             "#f0f921"
            ]
           ],
           "sequentialminus": [
            [
             0,
             "#0d0887"
            ],
            [
             0.1111111111111111,
             "#46039f"
            ],
            [
             0.2222222222222222,
             "#7201a8"
            ],
            [
             0.3333333333333333,
             "#9c179e"
            ],
            [
             0.4444444444444444,
             "#bd3786"
            ],
            [
             0.5555555555555556,
             "#d8576b"
            ],
            [
             0.6666666666666666,
             "#ed7953"
            ],
            [
             0.7777777777777778,
             "#fb9f3a"
            ],
            [
             0.8888888888888888,
             "#fdca26"
            ],
            [
             1,
             "#f0f921"
            ]
           ]
          },
          "colorway": [
           "#636efa",
           "#EF553B",
           "#00cc96",
           "#ab63fa",
           "#FFA15A",
           "#19d3f3",
           "#FF6692",
           "#B6E880",
           "#FF97FF",
           "#FECB52"
          ],
          "font": {
           "color": "#2a3f5f"
          },
          "geo": {
           "bgcolor": "white",
           "lakecolor": "white",
           "landcolor": "#E5ECF6",
           "showlakes": true,
           "showland": true,
           "subunitcolor": "white"
          },
          "hoverlabel": {
           "align": "left"
          },
          "hovermode": "closest",
          "mapbox": {
           "style": "light"
          },
          "paper_bgcolor": "white",
          "plot_bgcolor": "#E5ECF6",
          "polar": {
           "angularaxis": {
            "gridcolor": "white",
            "linecolor": "white",
            "ticks": ""
           },
           "bgcolor": "#E5ECF6",
           "radialaxis": {
            "gridcolor": "white",
            "linecolor": "white",
            "ticks": ""
           }
          },
          "scene": {
           "xaxis": {
            "backgroundcolor": "#E5ECF6",
            "gridcolor": "white",
            "gridwidth": 2,
            "linecolor": "white",
            "showbackground": true,
            "ticks": "",
            "zerolinecolor": "white"
           },
           "yaxis": {
            "backgroundcolor": "#E5ECF6",
            "gridcolor": "white",
            "gridwidth": 2,
            "linecolor": "white",
            "showbackground": true,
            "ticks": "",
            "zerolinecolor": "white"
           },
           "zaxis": {
            "backgroundcolor": "#E5ECF6",
            "gridcolor": "white",
            "gridwidth": 2,
            "linecolor": "white",
            "showbackground": true,
            "ticks": "",
            "zerolinecolor": "white"
           }
          },
          "shapedefaults": {
           "line": {
            "color": "#2a3f5f"
           }
          },
          "ternary": {
           "aaxis": {
            "gridcolor": "white",
            "linecolor": "white",
            "ticks": ""
           },
           "baxis": {
            "gridcolor": "white",
            "linecolor": "white",
            "ticks": ""
           },
           "bgcolor": "#E5ECF6",
           "caxis": {
            "gridcolor": "white",
            "linecolor": "white",
            "ticks": ""
           }
          },
          "title": {
           "x": 0.05
          },
          "xaxis": {
           "automargin": true,
           "gridcolor": "white",
           "linecolor": "white",
           "ticks": "",
           "title": {
            "standoff": 15
           },
           "zerolinecolor": "white",
           "zerolinewidth": 2
          },
          "yaxis": {
           "automargin": true,
           "gridcolor": "white",
           "linecolor": "white",
           "ticks": "",
           "title": {
            "standoff": 15
           },
           "zerolinecolor": "white",
           "zerolinewidth": 2
          }
         }
        },
        "title": {
         "text": ""
        }
       }
      },
      "text/html": [
       "<div>                        <script type=\"text/javascript\">window.PlotlyConfig = {MathJaxConfig: 'local'};</script>\n",
       "        <script charset=\"utf-8\" src=\"https://cdn.plot.ly/plotly-2.35.2.min.js\"></script>                <div id=\"0d217801-5737-47e2-8bf0-0fad64c1d2a0\" class=\"plotly-graph-div\" style=\"height:100%; width:100%;\"></div>            <script type=\"text/javascript\">                                    window.PLOTLYENV=window.PLOTLYENV || {};                                    if (document.getElementById(\"0d217801-5737-47e2-8bf0-0fad64c1d2a0\")) {                    Plotly.newPlot(                        \"0d217801-5737-47e2-8bf0-0fad64c1d2a0\",                        [{\"link\":{\"color\":[\"rgba(192,192,192,0.3)\",\"rgba(192,192,192,0.3)\",\"rgba(192,192,192,0.3)\",\"rgba(192,192,192,0.3)\",\"rgba(192,192,192,0.3)\",\"rgba(192,192,192,0.3)\",\"rgba(192,192,192,0.3)\",\"rgba(192,192,192,0.3)\",\"rgba(192,192,192,0.3)\",\"rgba(192,192,192,0.3)\",\"rgba(192,192,192,0.3)\",\"rgba(192,192,192,0.3)\",\"rgba(192,192,192,0.3)\",\"rgba(192,192,192,0.3)\",\"rgba(192,192,192,0.3)\",\"rgba(192,192,192,0.3)\",\"rgba(64, 80, 116, 0.9)\",\"rgba(64, 80, 116, 0.9)\",\"rgba(64, 80, 116, 0.9)\",\"rgba(64, 80, 116, 0.9)\",\"rgba(125, 81, 133, 0.9)\",\"rgba(125, 81, 133, 0.9)\",\"rgba(125, 81, 133, 0.9)\",\"rgba(125, 81, 133, 0.9)\",\"rgba(195, 97, 113, 0.9)\",\"rgba(195, 97, 113, 0.9)\",\"rgba(195, 97, 113, 0.9)\",\"rgba(195, 97, 113, 0.9)\",\"rgba(238, 169, 141, 0.9)\",\"rgba(238, 169, 141, 0.9)\",\"rgba(238, 169, 141, 0.9)\",\"rgba(238, 169, 141, 0.9)\"],\"hovertemplate\":\"Gene: %{source.label}\\u003cbr\\u003eCluster: %{target.label}\",\"source\":[0,0,0,0,1,1,1,1,2,2,2,2,3,3,3,3,4,5,6,7,8,9,10,11,12,13,14,15,16,17,18,19],\"target\":[4,5,6,7,8,9,10,11,12,13,14,15,16,17,18,19,20,21,22,20,23,21,23,23,24,25,24,24,26,27,26,26],\"value\":[1,1,1,1,1,1,1,1,1,1,1,1,1,1,1,1,1,1,1,1,1,1,1,1,1,1,1,1,1,1,1,1]},\"node\":{\"color\":[\"#405074\",\"#7d5185\",\"#c36171\",\"#eea98d\",\"silver\",\"silver\",\"silver\",\"silver\",\"silver\",\"silver\",\"silver\",\"silver\",\"silver\",\"silver\",\"silver\",\"silver\",\"silver\",\"silver\",\"silver\",\"silver\",\"silver\",\"silver\",\"silver\",\"silver\",\"silver\",\"silver\",\"silver\",\"silver\"],\"hovertemplate\":\"%{label}\\u003cextra\\u003e\\u003c\\u002fextra\\u003e\",\"label\":[\"RNA_ESC\",\"RNA_MES\",\"RNA_CP\",\"RNA_CM\",\"Nanog\",\"Pou5f1\",\"Sox2\",\"Dppa5a\",\"Mesp1\",\"T\",\"Vrtn\",\"Dll3\",\"Gata5\",\"Tek\",\"Sox18\",\"Lyl1\",\"Actn2\",\"Coro6\",\"Myh6\",\"Myh7\",39,53,29,48,17,22,70,68],\"line\":{\"color\":\"black\",\"width\":0.5},\"pad\":5,\"thickness\":10},\"textfont\":{\"color\":\"white\",\"size\":14},\"type\":\"sankey\"}],                        {\"template\":{\"data\":{\"histogram2dcontour\":[{\"type\":\"histogram2dcontour\",\"colorbar\":{\"outlinewidth\":0,\"ticks\":\"\"},\"colorscale\":[[0.0,\"#0d0887\"],[0.1111111111111111,\"#46039f\"],[0.2222222222222222,\"#7201a8\"],[0.3333333333333333,\"#9c179e\"],[0.4444444444444444,\"#bd3786\"],[0.5555555555555556,\"#d8576b\"],[0.6666666666666666,\"#ed7953\"],[0.7777777777777778,\"#fb9f3a\"],[0.8888888888888888,\"#fdca26\"],[1.0,\"#f0f921\"]]}],\"choropleth\":[{\"type\":\"choropleth\",\"colorbar\":{\"outlinewidth\":0,\"ticks\":\"\"}}],\"histogram2d\":[{\"type\":\"histogram2d\",\"colorbar\":{\"outlinewidth\":0,\"ticks\":\"\"},\"colorscale\":[[0.0,\"#0d0887\"],[0.1111111111111111,\"#46039f\"],[0.2222222222222222,\"#7201a8\"],[0.3333333333333333,\"#9c179e\"],[0.4444444444444444,\"#bd3786\"],[0.5555555555555556,\"#d8576b\"],[0.6666666666666666,\"#ed7953\"],[0.7777777777777778,\"#fb9f3a\"],[0.8888888888888888,\"#fdca26\"],[1.0,\"#f0f921\"]]}],\"heatmap\":[{\"type\":\"heatmap\",\"colorbar\":{\"outlinewidth\":0,\"ticks\":\"\"},\"colorscale\":[[0.0,\"#0d0887\"],[0.1111111111111111,\"#46039f\"],[0.2222222222222222,\"#7201a8\"],[0.3333333333333333,\"#9c179e\"],[0.4444444444444444,\"#bd3786\"],[0.5555555555555556,\"#d8576b\"],[0.6666666666666666,\"#ed7953\"],[0.7777777777777778,\"#fb9f3a\"],[0.8888888888888888,\"#fdca26\"],[1.0,\"#f0f921\"]]}],\"heatmapgl\":[{\"type\":\"heatmapgl\",\"colorbar\":{\"outlinewidth\":0,\"ticks\":\"\"},\"colorscale\":[[0.0,\"#0d0887\"],[0.1111111111111111,\"#46039f\"],[0.2222222222222222,\"#7201a8\"],[0.3333333333333333,\"#9c179e\"],[0.4444444444444444,\"#bd3786\"],[0.5555555555555556,\"#d8576b\"],[0.6666666666666666,\"#ed7953\"],[0.7777777777777778,\"#fb9f3a\"],[0.8888888888888888,\"#fdca26\"],[1.0,\"#f0f921\"]]}],\"contourcarpet\":[{\"type\":\"contourcarpet\",\"colorbar\":{\"outlinewidth\":0,\"ticks\":\"\"}}],\"contour\":[{\"type\":\"contour\",\"colorbar\":{\"outlinewidth\":0,\"ticks\":\"\"},\"colorscale\":[[0.0,\"#0d0887\"],[0.1111111111111111,\"#46039f\"],[0.2222222222222222,\"#7201a8\"],[0.3333333333333333,\"#9c179e\"],[0.4444444444444444,\"#bd3786\"],[0.5555555555555556,\"#d8576b\"],[0.6666666666666666,\"#ed7953\"],[0.7777777777777778,\"#fb9f3a\"],[0.8888888888888888,\"#fdca26\"],[1.0,\"#f0f921\"]]}],\"surface\":[{\"type\":\"surface\",\"colorbar\":{\"outlinewidth\":0,\"ticks\":\"\"},\"colorscale\":[[0.0,\"#0d0887\"],[0.1111111111111111,\"#46039f\"],[0.2222222222222222,\"#7201a8\"],[0.3333333333333333,\"#9c179e\"],[0.4444444444444444,\"#bd3786\"],[0.5555555555555556,\"#d8576b\"],[0.6666666666666666,\"#ed7953\"],[0.7777777777777778,\"#fb9f3a\"],[0.8888888888888888,\"#fdca26\"],[1.0,\"#f0f921\"]]}],\"mesh3d\":[{\"type\":\"mesh3d\",\"colorbar\":{\"outlinewidth\":0,\"ticks\":\"\"}}],\"scatter\":[{\"fillpattern\":{\"fillmode\":\"overlay\",\"size\":10,\"solidity\":0.2},\"type\":\"scatter\"}],\"parcoords\":[{\"type\":\"parcoords\",\"line\":{\"colorbar\":{\"outlinewidth\":0,\"ticks\":\"\"}}}],\"scatterpolargl\":[{\"type\":\"scatterpolargl\",\"marker\":{\"colorbar\":{\"outlinewidth\":0,\"ticks\":\"\"}}}],\"bar\":[{\"error_x\":{\"color\":\"#2a3f5f\"},\"error_y\":{\"color\":\"#2a3f5f\"},\"marker\":{\"line\":{\"color\":\"#E5ECF6\",\"width\":0.5},\"pattern\":{\"fillmode\":\"overlay\",\"size\":10,\"solidity\":0.2}},\"type\":\"bar\"}],\"scattergeo\":[{\"type\":\"scattergeo\",\"marker\":{\"colorbar\":{\"outlinewidth\":0,\"ticks\":\"\"}}}],\"scatterpolar\":[{\"type\":\"scatterpolar\",\"marker\":{\"colorbar\":{\"outlinewidth\":0,\"ticks\":\"\"}}}],\"histogram\":[{\"marker\":{\"pattern\":{\"fillmode\":\"overlay\",\"size\":10,\"solidity\":0.2}},\"type\":\"histogram\"}],\"scattergl\":[{\"type\":\"scattergl\",\"marker\":{\"colorbar\":{\"outlinewidth\":0,\"ticks\":\"\"}}}],\"scatter3d\":[{\"type\":\"scatter3d\",\"line\":{\"colorbar\":{\"outlinewidth\":0,\"ticks\":\"\"}},\"marker\":{\"colorbar\":{\"outlinewidth\":0,\"ticks\":\"\"}}}],\"scattermapbox\":[{\"type\":\"scattermapbox\",\"marker\":{\"colorbar\":{\"outlinewidth\":0,\"ticks\":\"\"}}}],\"scatterternary\":[{\"type\":\"scatterternary\",\"marker\":{\"colorbar\":{\"outlinewidth\":0,\"ticks\":\"\"}}}],\"scattercarpet\":[{\"type\":\"scattercarpet\",\"marker\":{\"colorbar\":{\"outlinewidth\":0,\"ticks\":\"\"}}}],\"carpet\":[{\"aaxis\":{\"endlinecolor\":\"#2a3f5f\",\"gridcolor\":\"white\",\"linecolor\":\"white\",\"minorgridcolor\":\"white\",\"startlinecolor\":\"#2a3f5f\"},\"baxis\":{\"endlinecolor\":\"#2a3f5f\",\"gridcolor\":\"white\",\"linecolor\":\"white\",\"minorgridcolor\":\"white\",\"startlinecolor\":\"#2a3f5f\"},\"type\":\"carpet\"}],\"table\":[{\"cells\":{\"fill\":{\"color\":\"#EBF0F8\"},\"line\":{\"color\":\"white\"}},\"header\":{\"fill\":{\"color\":\"#C8D4E3\"},\"line\":{\"color\":\"white\"}},\"type\":\"table\"}],\"barpolar\":[{\"marker\":{\"line\":{\"color\":\"#E5ECF6\",\"width\":0.5},\"pattern\":{\"fillmode\":\"overlay\",\"size\":10,\"solidity\":0.2}},\"type\":\"barpolar\"}],\"pie\":[{\"automargin\":true,\"type\":\"pie\"}]},\"layout\":{\"autotypenumbers\":\"strict\",\"colorway\":[\"#636efa\",\"#EF553B\",\"#00cc96\",\"#ab63fa\",\"#FFA15A\",\"#19d3f3\",\"#FF6692\",\"#B6E880\",\"#FF97FF\",\"#FECB52\"],\"font\":{\"color\":\"#2a3f5f\"},\"hovermode\":\"closest\",\"hoverlabel\":{\"align\":\"left\"},\"paper_bgcolor\":\"white\",\"plot_bgcolor\":\"#E5ECF6\",\"polar\":{\"bgcolor\":\"#E5ECF6\",\"angularaxis\":{\"gridcolor\":\"white\",\"linecolor\":\"white\",\"ticks\":\"\"},\"radialaxis\":{\"gridcolor\":\"white\",\"linecolor\":\"white\",\"ticks\":\"\"}},\"ternary\":{\"bgcolor\":\"#E5ECF6\",\"aaxis\":{\"gridcolor\":\"white\",\"linecolor\":\"white\",\"ticks\":\"\"},\"baxis\":{\"gridcolor\":\"white\",\"linecolor\":\"white\",\"ticks\":\"\"},\"caxis\":{\"gridcolor\":\"white\",\"linecolor\":\"white\",\"ticks\":\"\"}},\"coloraxis\":{\"colorbar\":{\"outlinewidth\":0,\"ticks\":\"\"}},\"colorscale\":{\"sequential\":[[0.0,\"#0d0887\"],[0.1111111111111111,\"#46039f\"],[0.2222222222222222,\"#7201a8\"],[0.3333333333333333,\"#9c179e\"],[0.4444444444444444,\"#bd3786\"],[0.5555555555555556,\"#d8576b\"],[0.6666666666666666,\"#ed7953\"],[0.7777777777777778,\"#fb9f3a\"],[0.8888888888888888,\"#fdca26\"],[1.0,\"#f0f921\"]],\"sequentialminus\":[[0.0,\"#0d0887\"],[0.1111111111111111,\"#46039f\"],[0.2222222222222222,\"#7201a8\"],[0.3333333333333333,\"#9c179e\"],[0.4444444444444444,\"#bd3786\"],[0.5555555555555556,\"#d8576b\"],[0.6666666666666666,\"#ed7953\"],[0.7777777777777778,\"#fb9f3a\"],[0.8888888888888888,\"#fdca26\"],[1.0,\"#f0f921\"]],\"diverging\":[[0,\"#8e0152\"],[0.1,\"#c51b7d\"],[0.2,\"#de77ae\"],[0.3,\"#f1b6da\"],[0.4,\"#fde0ef\"],[0.5,\"#f7f7f7\"],[0.6,\"#e6f5d0\"],[0.7,\"#b8e186\"],[0.8,\"#7fbc41\"],[0.9,\"#4d9221\"],[1,\"#276419\"]]},\"xaxis\":{\"gridcolor\":\"white\",\"linecolor\":\"white\",\"ticks\":\"\",\"title\":{\"standoff\":15},\"zerolinecolor\":\"white\",\"automargin\":true,\"zerolinewidth\":2},\"yaxis\":{\"gridcolor\":\"white\",\"linecolor\":\"white\",\"ticks\":\"\",\"title\":{\"standoff\":15},\"zerolinecolor\":\"white\",\"automargin\":true,\"zerolinewidth\":2},\"scene\":{\"xaxis\":{\"backgroundcolor\":\"#E5ECF6\",\"gridcolor\":\"white\",\"linecolor\":\"white\",\"showbackground\":true,\"ticks\":\"\",\"zerolinecolor\":\"white\",\"gridwidth\":2},\"yaxis\":{\"backgroundcolor\":\"#E5ECF6\",\"gridcolor\":\"white\",\"linecolor\":\"white\",\"showbackground\":true,\"ticks\":\"\",\"zerolinecolor\":\"white\",\"gridwidth\":2},\"zaxis\":{\"backgroundcolor\":\"#E5ECF6\",\"gridcolor\":\"white\",\"linecolor\":\"white\",\"showbackground\":true,\"ticks\":\"\",\"zerolinecolor\":\"white\",\"gridwidth\":2}},\"shapedefaults\":{\"line\":{\"color\":\"#2a3f5f\"}},\"annotationdefaults\":{\"arrowcolor\":\"#2a3f5f\",\"arrowhead\":0,\"arrowwidth\":1},\"geo\":{\"bgcolor\":\"white\",\"landcolor\":\"#E5ECF6\",\"subunitcolor\":\"white\",\"showland\":true,\"showlakes\":true,\"lakecolor\":\"white\"},\"title\":{\"x\":0.05},\"mapbox\":{\"style\":\"light\"}}},\"title\":{\"text\":\"\"},\"margin\":{\"t\":50,\"l\":25,\"r\":25,\"b\":25},\"annotations\":[{\"font\":{\"size\":16},\"showarrow\":false,\"text\":\"Category\",\"x\":0.02,\"y\":1.1},{\"font\":{\"size\":16},\"showarrow\":false,\"text\":\"Gene\",\"x\":0.5,\"y\":1.1},{\"font\":{\"size\":16},\"showarrow\":false,\"text\":\"Cluster\",\"x\":0.98,\"xanchor\":\"right\",\"y\":1.1}]},                        {\"responsive\": true}                    )                };                            </script>        </div>"
      ],
      "text/plain": [
       "Figure({\n",
       "    'data': [{'link': {'color': [rgba(192,192,192,0.3), rgba(192,192,192,0.3),\n",
       "                                 rgba(192,192,192,0.3), rgba(192,192,192,0.3),\n",
       "                                 rgba(192,192,192,0.3), rgba(192,192,192,0.3),\n",
       "                                 rgba(192,192,192,0.3), rgba(192,192,192,0.3),\n",
       "                                 rgba(192,192,192,0.3), rgba(192,192,192,0.3),\n",
       "                                 rgba(192,192,192,0.3), rgba(192,192,192,0.3),\n",
       "                                 rgba(192,192,192,0.3), rgba(192,192,192,0.3),\n",
       "                                 rgba(192,192,192,0.3), rgba(192,192,192,0.3),\n",
       "                                 rgba(64, 80, 116, 0.9), rgba(64, 80, 116, 0.9),\n",
       "                                 rgba(64, 80, 116, 0.9), rgba(64, 80, 116, 0.9),\n",
       "                                 rgba(125, 81, 133, 0.9), rgba(125, 81, 133, 0.9),\n",
       "                                 rgba(125, 81, 133, 0.9), rgba(125, 81, 133, 0.9),\n",
       "                                 rgba(195, 97, 113, 0.9), rgba(195, 97, 113, 0.9),\n",
       "                                 rgba(195, 97, 113, 0.9), rgba(195, 97, 113, 0.9),\n",
       "                                 rgba(238, 169, 141, 0.9), rgba(238, 169, 141,\n",
       "                                 0.9), rgba(238, 169, 141, 0.9), rgba(238, 169,\n",
       "                                 141, 0.9)],\n",
       "                       'hovertemplate': 'Gene: %{source.label}<br>Cluster: %{target.label}',\n",
       "                       'source': [0, 0, 0, 0, 1, 1, 1, 1, 2, 2, 2, 2, 3, 3, 3, 3,\n",
       "                                  4, 5, 6, 7, 8, 9, 10, 11, 12, 13, 14, 15, 16, 17,\n",
       "                                  18, 19],\n",
       "                       'target': [4, 5, 6, 7, 8, 9, 10, 11, 12, 13, 14, 15, 16,\n",
       "                                  17, 18, 19, 20, 21, 22, 20, 23, 21, 23, 23, 24,\n",
       "                                  25, 24, 24, 26, 27, 26, 26],\n",
       "                       'value': [1, 1, 1, 1, 1, 1, 1, 1, 1, 1, 1, 1, 1, 1, 1, 1,\n",
       "                                 1, 1, 1, 1, 1, 1, 1, 1, 1, 1, 1, 1, 1, 1, 1, 1]},\n",
       "              'node': {'color': [#405074, #7d5185, #c36171, #eea98d, silver,\n",
       "                                 silver, silver, silver, silver, silver, silver,\n",
       "                                 silver, silver, silver, silver, silver, silver,\n",
       "                                 silver, silver, silver, silver, silver, silver,\n",
       "                                 silver, silver, silver, silver, silver],\n",
       "                       'hovertemplate': '%{label}<extra></extra>',\n",
       "                       'label': [RNA_ESC, RNA_MES, RNA_CP, RNA_CM, Nanog, Pou5f1,\n",
       "                                 Sox2, Dppa5a, Mesp1, T, Vrtn, Dll3, Gata5, Tek,\n",
       "                                 Sox18, Lyl1, Actn2, Coro6, Myh6, Myh7, 39, 53, 29,\n",
       "                                 48, 17, 22, 70, 68],\n",
       "                       'line': {'color': 'black', 'width': 0.5},\n",
       "                       'pad': 5,\n",
       "                       'thickness': 10},\n",
       "              'textfont': {'color': 'white', 'size': 14},\n",
       "              'type': 'sankey'}],\n",
       "    'layout': {'annotations': [{'font': {'size': 16}, 'showarrow': False, 'text': 'Category', 'x': 0.02, 'y': 1.1},\n",
       "                               {'font': {'size': 16}, 'showarrow': False, 'text': 'Gene', 'x': 0.5, 'y': 1.1},\n",
       "                               {'font': {'size': 16},\n",
       "                                'showarrow': False,\n",
       "                                'text': 'Cluster',\n",
       "                                'x': 0.98,\n",
       "                                'xanchor': 'right',\n",
       "                                'y': 1.1}],\n",
       "               'margin': {'b': 25, 'l': 25, 'r': 25, 't': 50},\n",
       "               'template': '...',\n",
       "               'title': {'text': ''}}\n",
       "})"
      ]
     },
     "execution_count": 177,
     "metadata": {},
     "output_type": "execute_result"
    }
   ],
   "source": [
    "SEL_GENES=['Nanog','Pou5f1','Sox2','Dppa5a','Mesp1','T', 'Vrtn','Dll3','Gata5', 'Tek','Sox18','Lyl1','Actn2', 'Coro6','Myh6','Myh7']\n",
    "CAT_FEATURE = 'CV_Category'\n",
    "COL_DICT =  {'RNA_ESC': '#405074',\n",
    "                'RNA_MES': '#7d5185',\n",
    "                'RNA_CP': '#c36171',\n",
    "                'RNA_CM': '#eea98d',\n",
    "                'STABLE':'#B4CD70',\n",
    "                'other':'#ECECEC'}\n",
    "\n",
    "\n",
    "\n",
    "\n",
    "fig = plot_sankey(DATA, SEL_GENES, CAT_FEATURE, COL_DICT, font_color='white', font_size=14,link_opacity=0.9)\n",
    "fig\n"
   ]
  }
 ],
 "metadata": {
  "kernelspec": {
   "display_name": "streamlit",
   "language": "python",
   "name": "python3"
  },
  "language_info": {
   "codemirror_mode": {
    "name": "ipython",
    "version": 3
   },
   "file_extension": ".py",
   "mimetype": "text/x-python",
   "name": "python",
   "nbconvert_exporter": "python",
   "pygments_lexer": "ipython3",
   "version": "3.12.7"
  }
 },
 "nbformat": 4,
 "nbformat_minor": 2
}
