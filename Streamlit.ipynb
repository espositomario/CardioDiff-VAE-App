{
 "cells": [
  {
   "cell_type": "code",
   "execution_count": 96,
   "metadata": {},
   "outputs": [],
   "source": [
    "CT_LIST = ['ESC', 'MES', 'CP', 'CM']\n",
    "HM_LIST = ['H3K4me3', 'H3K27ac', 'H3K27me3',  'RNA']\n",
    "PREFIXES = [HM + '_' + CT for HM in HM_LIST for CT in CT_LIST]\n",
    "\n",
    "\n",
    "MARKER_GENES_EXT = {'ESC': ['Nanog','Pou5f1','Sox2','L1td1','Dppa5a','Tdh','Esrrb','Lefty1','Zfp42','Sfn','Lncenc1','Utf1'],\n",
    "                    'MES': ['Mesp1','Mesp2','T', 'Vrtn','Dll3','Dll1', 'Evx1','Cxcr4','Pcdh8','Pcdh19','Robo3','Slit1'],\n",
    "                    'CP':  ['Sfrp5', 'Gata5', 'Tek','Hbb-bh1','Hba-x', 'Pyy','Sox18','Lyl1','Rgs4','Igsf11','Tlx1','Ctse'],\n",
    "                    'CM':  ['Nppa','Gipr', 'Actn2', 'Coro6', 'Col3a1', 'Bgn','Myh6','Myh7','Tnni3','Hspb7' ,'Igfbp7','Ndrg2'],\n",
    "                    }\n",
    "\n",
    "\n",
    "\n",
    "HM_COL_DICT = {'H3K4me3': '#f37654','H3K27ac': '#b62a77','H3K27me3': '#39A8AC','RNA':'#ED455C'}\n",
    "CT_COL_DICT= {'ESC': '#405074',\n",
    "                'MES': '#7d5185',\n",
    "                'CP': '#c36171',\n",
    "                'CM': '#eea98d',}\n",
    "SET_COL_DICT= {'training':'#97DA58','validation':'#9b58da','test':'#DA5A58'}\n",
    "GONZALEZ_COL_DICT= {'Active': '#E5AA44','Bivalent': '#7442BE'}"
   ]
  },
  {
   "cell_type": "code",
   "execution_count": 97,
   "metadata": {},
   "outputs": [],
   "source": [
    "import plotly.express as px\n",
    "import pandas as pd\n",
    "import pickle\n",
    "\n",
    "\n",
    "\n",
    "# Load gene cluster dictionary\n",
    "with open(f'./data/gene_clusters_dict.pkl', 'rb') as f:\n",
    "    GENE_CLUSTERS = pickle.load(f)\n",
    "\n",
    "# Load CODE and LOG matrices\n",
    "CODE = pd.read_csv(f'./data/CODE.csv', index_col='GENE')\n",
    "CODE = CODE.iloc[:, 18:]\n",
    "CODE.drop(columns=['AE_RMSE','AE_Sc', 'PCA_RMSE', 'PCA_Sc', 'UMAP_RMSE', 'UMAP_Sc'],inplace=True)\n",
    "LOG = pd.read_csv(f'./data/ALL_X_FC.csv').set_index('GENE')\n"
   ]
  },
  {
   "cell_type": "code",
   "execution_count": 98,
   "metadata": {},
   "outputs": [],
   "source": [
    "name = 'TOP'\n",
    "N_TOP = 4000\n",
    "with open(f'./data/RNA_CV/{name}{N_TOP}/dict.pkl', 'rb') as f:\n",
    "    CV = pickle.load(f)\n",
    "name = 'BOTTOM'\n",
    "with open(f'./data/RNA_CV/{name}{N_TOP}/dict.pkl', 'rb') as f:\n",
    "    BOTTOM_CV = pickle.load(f)\n",
    "    \n",
    "STABLE = [gene for gene_list in BOTTOM_CV.values() for gene in gene_list]\n",
    "CV['STABLE'] = STABLE\n",
    "\n",
    "CV_MAP={}\n",
    "for CV_CAT, gene_list in CV.items():\n",
    "    for gene in gene_list:\n",
    "        CV_MAP[gene] = CV_CAT\n",
    "        \n",
    "CODE[\"CV_Category\"] = CODE.index.map(CV_MAP)\n",
    "CODE['CV_Category'] = CODE['CV_Category'].fillna('other')"
   ]
  },
  {
   "cell_type": "code",
   "execution_count": 99,
   "metadata": {},
   "outputs": [
    {
     "data": {
      "text/plain": [
       "ESC_ChromState_Gonzalez2021\n",
       "Active      9186\n",
       "other       3495\n",
       "Bivalent    2315\n",
       "Name: count, dtype: int64"
      ]
     },
     "execution_count": 99,
     "metadata": {},
     "output_type": "execute_result"
    }
   ],
   "source": [
    "with open('./data/gonzalez_dict.pkl', 'rb') as f:\n",
    "    GONZALEZ = pickle.load(f)\n",
    "GONZALEZ_MAP={}\n",
    "for GONZALEZ_CAT, gene_list in GONZALEZ.items():\n",
    "    for gene in gene_list:\n",
    "        GONZALEZ_MAP[gene] = GONZALEZ_CAT\n",
    "CODE[\"ESC_ChromState_Gonzalez2021\"] = CODE.index.map(GONZALEZ_MAP)\n",
    "CODE['ESC_ChromState_Gonzalez2021'] = CODE['ESC_ChromState_Gonzalez2021'].fillna('other')\n",
    "CODE['ESC_ChromState_Gonzalez2021'].value_counts()"
   ]
  },
  {
   "cell_type": "code",
   "execution_count": 100,
   "metadata": {},
   "outputs": [],
   "source": [
    "\n",
    "# Map cluster IDs to CODE and LOG\n",
    "gene_to_cluster = {}\n",
    "for cluster_id, gene_list in GENE_CLUSTERS.items():\n",
    "    for gene in gene_list['gene_list']:\n",
    "        gene_to_cluster[gene] = cluster_id\n",
    "CODE[\"Cluster\"] = CODE.index.map(gene_to_cluster).astype(int)\n"
   ]
  },
  {
   "cell_type": "code",
   "execution_count": 125,
   "metadata": {},
   "outputs": [],
   "source": [
    "CODE = CODE[['RNA_ESC', 'RNA_MES', 'RNA_CP', 'RNA_CM',\n",
    "\n",
    "    'H3K4me3_ESC','H3K4me3_MES', 'H3K4me3_CP', 'H3K4me3_CM', 'H3K27ac_ESC', 'H3K27ac_MES',\n",
    "        'H3K27ac_CP', 'H3K27ac_CM', 'H3K27me3_ESC', 'H3K27me3_MES',\n",
    "        'H3K27me3_CP', 'H3K27me3_CM', \n",
    "        \n",
    "        'RNA_CM_CP_FC', 'RNA_CM_MES_FC', 'RNA_CM_ESC_FC', 'RNA_CP_MES_FC','RNA_CP_ESC_FC', 'RNA_MES_ESC_FC', \n",
    "        'VAE_RMSE', 'VAE_Sc', \n",
    "        'RNA_CV','CV_Category', 'ESC_ChromState_Gonzalez2021','Cluster',\n",
    "        'VAE1', 'VAE2', 'VAE3', 'VAE4', 'VAE5', 'VAE6', 'VAE_UMAP1', 'VAE_UMAP2',]]\n",
    "CODE['Cluster'] = pd.Categorical(CODE['Cluster'])"
   ]
  },
  {
   "cell_type": "code",
   "execution_count": null,
   "metadata": {},
   "outputs": [],
   "source": [
    "RNA_FPKM= pd.read_csv(f'./data/RNA_FPKMs.csv', index_col='GENE')\n",
    "assert list(RNA_FPKM.index) == list(CODE.index)\n",
    "#concatenate the two dataframes\n",
    "DATA = pd.concat([CODE, RNA_FPKM], axis=1)\n",
    "DATA.to_csv(f'./data/DATA.csv')\n",
    "\n",
    "Z_AVG_features = ['RNA_ESC', 'RNA_MES', 'RNA_CP', 'RNA_CM', 'H3K4me3_ESC', 'H3K4me3_MES',\n",
    "        'H3K4me3_CP', 'H3K4me3_CM', 'H3K27ac_ESC', 'H3K27ac_MES', 'H3K27ac_CP',\n",
    "        'H3K27ac_CM', 'H3K27me3_ESC', 'H3K27me3_MES', 'H3K27me3_CP',\n",
    "        'H3K27me3_CM']\n",
    "Z_AVG = DATA[Z_AVG_features]\n",
    "\n",
    "LOG_FC_features = ['RNA_CM_CP_FC', 'RNA_CM_MES_FC', 'RNA_CM_ESC_FC',\n",
    "            'RNA_CP_MES_FC', 'RNA_CP_ESC_FC', 'RNA_MES_ESC_FC']\n",
    "LOG_FC = DATA[LOG_FC_features]\n",
    "\n",
    "MISC_features = [ 'VAE_RMSE', 'VAE_Sc', 'RNA_CV', 'CV_Category', 'ESC_ChromState_Gonzalez2021',\n",
    "        'Cluster']\n",
    "MISC = DATA[MISC_features]\n",
    "\n",
    "LATENT_features = ['VAE1', 'VAE2', 'VAE3', 'VAE4', 'VAE5', 'VAE6', 'VAE_UMAP1', 'VAE_UMAP2']\n",
    "LATENT = DATA[LATENT_features]\n",
    "\n",
    "FPKM_features = [ 'RNA_ESC_1', 'RNA_ESC_2', 'RNA_MES_1', 'RNA_MES_2',\n",
    "            'RNA_CP_1', 'RNA_CP_2', 'RNA_CM_1', 'RNA_CM_2']\n",
    "FPKM = DATA[FPKM_features]\n"
   ]
  }
 ],
 "metadata": {
  "kernelspec": {
   "display_name": "streamlit",
   "language": "python",
   "name": "python3"
  },
  "language_info": {
   "codemirror_mode": {
    "name": "ipython",
    "version": 3
   },
   "file_extension": ".py",
   "mimetype": "text/x-python",
   "name": "python",
   "nbconvert_exporter": "python",
   "pygments_lexer": "ipython3",
   "version": "3.12.7"
  }
 },
 "nbformat": 4,
 "nbformat_minor": 2
}
